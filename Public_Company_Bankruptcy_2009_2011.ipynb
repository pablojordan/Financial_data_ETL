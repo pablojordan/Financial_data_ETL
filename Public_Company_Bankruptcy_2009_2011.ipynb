{
 "cells": [
  {
   "cell_type": "markdown",
   "metadata": {},
   "source": [
    "https://catalog.data.gov/dataset/public-company-bankruptcy-cases-opened-and-monitored\n",
    "\n",
    "Data updated June 18, 2019\n"
   ]
  },
  {
   "cell_type": "code",
   "execution_count": 1,
   "metadata": {
    "ExecuteTime": {
     "end_time": "2019-09-03T23:40:51.741670Z",
     "start_time": "2019-09-03T23:40:50.765542Z"
    }
   },
   "outputs": [],
   "source": [
    "import pandas as pd\n",
    "import numpy as np\n",
    "import matplotlib.pyplot as plt\n",
    "from sqlalchemy import create_engine"
   ]
  },
  {
   "cell_type": "markdown",
   "metadata": {},
   "source": [
    "# Extract"
   ]
  },
  {
   "cell_type": "code",
   "execution_count": 2,
   "metadata": {
    "ExecuteTime": {
     "end_time": "2019-09-03T23:40:51.898089Z",
     "start_time": "2019-09-03T23:40:51.894061Z"
    }
   },
   "outputs": [],
   "source": [
    "# Load CSV files\n",
    "\n",
    "data09 = \"bankruptcy_data/public_company_bankruptcy_cases_2009.csv\"\n",
    "data10 = \"bankruptcy_data/public_company_bankruptcy_cases_2010.csv\"\n",
    "data11 = \"bankruptcy_data/public_company_bankruptcy_cases_2011.csv\""
   ]
  },
  {
   "cell_type": "code",
   "execution_count": 3,
   "metadata": {
    "ExecuteTime": {
     "end_time": "2019-09-03T23:40:52.565248Z",
     "start_time": "2019-09-03T23:40:52.542239Z"
    }
   },
   "outputs": [],
   "source": [
    "# Read all data files and store into Pandas DataFrame\n",
    "\n",
    "data09_df = pd.read_csv(data09)\n",
    "data10_df = pd.read_csv(data10)\n",
    "data11_df = pd.read_csv(data11)\n"
   ]
  },
  {
   "cell_type": "markdown",
   "metadata": {},
   "source": [
    "# Transform "
   ]
  },
  {
   "cell_type": "code",
   "execution_count": 4,
   "metadata": {
    "ExecuteTime": {
     "end_time": "2019-09-03T23:40:54.037497Z",
     "start_time": "2019-09-03T23:40:54.030518Z"
    }
   },
   "outputs": [],
   "source": [
    "# Add fiscal year to each data frame\n",
    "\n",
    "data09_df['FISCAL_YEAR'] = 2009\n",
    "data10_df['FISCAL_YEAR'] = 2010\n",
    "data11_df['FISCAL_YEAR'] = 2011"
   ]
  },
  {
   "cell_type": "code",
   "execution_count": 5,
   "metadata": {
    "ExecuteTime": {
     "end_time": "2019-09-03T23:40:54.873174Z",
     "start_time": "2019-09-03T23:40:54.863269Z"
    }
   },
   "outputs": [],
   "source": [
    "# Drop NAN values\n",
    "\n",
    "data09_df = data09_df.dropna()\n",
    "data10_df = data10_df.dropna()\n",
    "data11_df = data11_df.dropna()\n"
   ]
  },
  {
   "cell_type": "code",
   "execution_count": 6,
   "metadata": {
    "ExecuteTime": {
     "end_time": "2019-09-03T23:40:55.801547Z",
     "start_time": "2019-09-03T23:40:55.783985Z"
    }
   },
   "outputs": [],
   "source": [
    "# Rearrenge columns of all data and reaname columns\n",
    "\n",
    "data09_df = data09_df[['FISCAL_YEAR','STATE', 'COMPANY NAME', 'ASSETS (MILLIONS)','LIABILITIES (MILLIONS)', 'DISTRICT']] \n",
    "data09_df = data09_df.rename(columns= {'COMPANY NAME': 'COMPANY', 'ASSETS (MILLIONS)': 'ASSETS_MILLIONS', 'LIABILITIES (MILLIONS)':'LIABILITIES_MILLIONS', 'DISTRICT': 'COURT_DISTRICT'})\n",
    "\n",
    "data10_df = data10_df[['FISCAL_YEAR','STATE', 'COMPANY NAME', 'ASSETS (MILLIONS)','LIABILITIES (MILLIONS)', 'DISTRICT']] \n",
    "data10_df = data10_df.rename(columns= {'COMPANY NAME': 'COMPANY', 'ASSETS (MILLIONS)': 'ASSETS_MILLIONS', 'LIABILITIES (MILLIONS)':'LIABILITIES_MILLIONS', 'DISTRICT': 'COURT_DISTRICT'})\n",
    "\n",
    "data11_df = data11_df[['FISCAL_YEAR','STATE', 'COMPANY NAME', 'ASSETS (MILLIONS)','LIABILITIES (MILLIONS)', 'DISTRICT']] \n",
    "data11_df = data11_df.rename(columns= {'COMPANY NAME': 'COMPANY', 'ASSETS (MILLIONS)': 'ASSETS_MILLIONS', 'LIABILITIES (MILLIONS)':'LIABILITIES_MILLIONS', 'DISTRICT': 'COURT_DISTRICT'})"
   ]
  },
  {
   "cell_type": "code",
   "execution_count": 7,
   "metadata": {
    "ExecuteTime": {
     "end_time": "2019-09-03T23:40:56.714606Z",
     "start_time": "2019-09-03T23:40:56.695467Z"
    }
   },
   "outputs": [
    {
     "name": "stdout",
     "output_type": "stream",
     "text": [
      "<class 'pandas.core.frame.DataFrame'>\n",
      "Int64Index: 127 entries, 0 to 128\n",
      "Data columns (total 6 columns):\n",
      "FISCAL_YEAR             127 non-null int64\n",
      "STATE                   127 non-null object\n",
      "COMPANY                 127 non-null object\n",
      "ASSETS_MILLIONS         127 non-null float64\n",
      "LIABILITIES_MILLIONS    127 non-null float64\n",
      "COURT_DISTRICT          127 non-null object\n",
      "dtypes: float64(2), int64(1), object(3)\n",
      "memory usage: 6.9+ KB\n",
      "<class 'pandas.core.frame.DataFrame'>\n",
      "Int64Index: 63 entries, 1 to 63\n",
      "Data columns (total 6 columns):\n",
      "FISCAL_YEAR             63 non-null int64\n",
      "STATE                   63 non-null object\n",
      "COMPANY                 63 non-null object\n",
      "ASSETS_MILLIONS         63 non-null object\n",
      "LIABILITIES_MILLIONS    63 non-null object\n",
      "COURT_DISTRICT          63 non-null object\n",
      "dtypes: int64(1), object(5)\n",
      "memory usage: 3.4+ KB\n",
      "<class 'pandas.core.frame.DataFrame'>\n",
      "Int64Index: 62 entries, 0 to 61\n",
      "Data columns (total 6 columns):\n",
      "FISCAL_YEAR             62 non-null int64\n",
      "STATE                   62 non-null object\n",
      "COMPANY                 62 non-null object\n",
      "ASSETS_MILLIONS         62 non-null object\n",
      "LIABILITIES_MILLIONS    62 non-null object\n",
      "COURT_DISTRICT          62 non-null object\n",
      "dtypes: int64(1), object(5)\n",
      "memory usage: 3.4+ KB\n"
     ]
    }
   ],
   "source": [
    "data09_df.info()\n",
    "data10_df.info()\n",
    "data11_df.info()\n"
   ]
  },
  {
   "cell_type": "code",
   "execution_count": 8,
   "metadata": {
    "ExecuteTime": {
     "end_time": "2019-09-03T23:40:57.770672Z",
     "start_time": "2019-09-03T23:40:57.759705Z"
    }
   },
   "outputs": [
    {
     "data": {
      "text/plain": [
       "FISCAL_YEAR              int64\n",
       "STATE                   object\n",
       "COMPANY                 object\n",
       "ASSETS_MILLIONS         object\n",
       "LIABILITIES_MILLIONS    object\n",
       "COURT_DISTRICT          object\n",
       "dtype: object"
      ]
     },
     "execution_count": 8,
     "metadata": {},
     "output_type": "execute_result"
    }
   ],
   "source": [
    "data10_df.dtypes\n",
    "\n",
    "# Kore Holdings, Inc.\n",
    "# Bridgetech Holdings International, Inc.\n",
    "# Java Detour, Inc.\n",
    "# Law Enforcement Associates Corporation\n",
    "# Sand Spring Capital\n"
   ]
  },
  {
   "cell_type": "code",
   "execution_count": 9,
   "metadata": {
    "ExecuteTime": {
     "end_time": "2019-09-03T23:40:58.760510Z",
     "start_time": "2019-09-03T23:40:58.743555Z"
    }
   },
   "outputs": [
    {
     "data": {
      "text/html": [
       "<div>\n",
       "<style scoped>\n",
       "    .dataframe tbody tr th:only-of-type {\n",
       "        vertical-align: middle;\n",
       "    }\n",
       "\n",
       "    .dataframe tbody tr th {\n",
       "        vertical-align: top;\n",
       "    }\n",
       "\n",
       "    .dataframe thead th {\n",
       "        text-align: right;\n",
       "    }\n",
       "</style>\n",
       "<table border=\"1\" class=\"dataframe\">\n",
       "  <thead>\n",
       "    <tr style=\"text-align: right;\">\n",
       "      <th></th>\n",
       "      <th>FISCAL_YEAR</th>\n",
       "      <th>STATE</th>\n",
       "      <th>COMPANY</th>\n",
       "      <th>ASSETS_MILLIONS</th>\n",
       "      <th>LIABILITIES_MILLIONS</th>\n",
       "      <th>COURT_DISTRICT</th>\n",
       "    </tr>\n",
       "  </thead>\n",
       "  <tbody>\n",
       "    <tr>\n",
       "      <th>51</th>\n",
       "      <td>2010</td>\n",
       "      <td>NY</td>\n",
       "      <td>Spongetech Delivery Systems, Inc.</td>\n",
       "      <td>0.50</td>\n",
       "      <td>----</td>\n",
       "      <td>SD</td>\n",
       "    </tr>\n",
       "  </tbody>\n",
       "</table>\n",
       "</div>"
      ],
      "text/plain": [
       "    FISCAL_YEAR STATE                            COMPANY ASSETS_MILLIONS  \\\n",
       "51         2010    NY  Spongetech Delivery Systems, Inc.            0.50   \n",
       "\n",
       "                           LIABILITIES_MILLIONS COURT_DISTRICT  \n",
       "51                                         ----             SD  "
      ]
     },
     "execution_count": 9,
     "metadata": {},
     "output_type": "execute_result"
    }
   ],
   "source": [
    "data10_df[data10_df['COMPANY'] == 'Spongetech Delivery Systems, Inc.']"
   ]
  },
  {
   "cell_type": "code",
   "execution_count": 10,
   "metadata": {
    "ExecuteTime": {
     "end_time": "2019-09-03T23:40:59.591822Z",
     "start_time": "2019-09-03T23:40:59.575868Z"
    }
   },
   "outputs": [
    {
     "data": {
      "text/html": [
       "<div>\n",
       "<style scoped>\n",
       "    .dataframe tbody tr th:only-of-type {\n",
       "        vertical-align: middle;\n",
       "    }\n",
       "\n",
       "    .dataframe tbody tr th {\n",
       "        vertical-align: top;\n",
       "    }\n",
       "\n",
       "    .dataframe thead th {\n",
       "        text-align: right;\n",
       "    }\n",
       "</style>\n",
       "<table border=\"1\" class=\"dataframe\">\n",
       "  <thead>\n",
       "    <tr style=\"text-align: right;\">\n",
       "      <th></th>\n",
       "      <th>FISCAL_YEAR</th>\n",
       "      <th>STATE</th>\n",
       "      <th>COMPANY</th>\n",
       "      <th>ASSETS_MILLIONS</th>\n",
       "      <th>LIABILITIES_MILLIONS</th>\n",
       "      <th>COURT_DISTRICT</th>\n",
       "    </tr>\n",
       "  </thead>\n",
       "  <tbody>\n",
       "    <tr>\n",
       "      <th>10</th>\n",
       "      <td>2011</td>\n",
       "      <td>CA</td>\n",
       "      <td>Bridgetech Holdings International, Inc.</td>\n",
       "      <td>--</td>\n",
       "      <td>7</td>\n",
       "      <td>SD</td>\n",
       "    </tr>\n",
       "  </tbody>\n",
       "</table>\n",
       "</div>"
      ],
      "text/plain": [
       "    FISCAL_YEAR STATE                                  COMPANY  \\\n",
       "10         2011    CA  Bridgetech Holdings International, Inc.   \n",
       "\n",
       "                           ASSETS_MILLIONS LIABILITIES_MILLIONS COURT_DISTRICT  \n",
       "10                                      --                    7             SD  "
      ]
     },
     "execution_count": 10,
     "metadata": {},
     "output_type": "execute_result"
    }
   ],
   "source": [
    "data11_df[data11_df['COMPANY'] == 'Bridgetech Holdings International, Inc.']"
   ]
  },
  {
   "cell_type": "code",
   "execution_count": 11,
   "metadata": {
    "ExecuteTime": {
     "end_time": "2019-09-03T23:41:00.292193Z",
     "start_time": "2019-09-03T23:41:00.280230Z"
    }
   },
   "outputs": [],
   "source": [
    "data10_df = data10_df.set_index('COMPANY')\n",
    "data10_df = data10_df.drop('Spongetech Delivery Systems, Inc.', axis = 0)\n",
    "data10_df = data10_df.drop('Kore Holdings, Inc.', axis = 0)\n",
    "data10_df = data10_df.drop('U.S. Dry Cleaning Services Corporation', axis = 0)\n",
    "\n",
    "data10_df= data10_df.reset_index()"
   ]
  },
  {
   "cell_type": "code",
   "execution_count": 12,
   "metadata": {
    "ExecuteTime": {
     "end_time": "2019-09-03T23:41:01.234144Z",
     "start_time": "2019-09-03T23:41:01.224080Z"
    }
   },
   "outputs": [],
   "source": [
    "data11_df = data11_df.set_index('COMPANY')\n",
    "data11_df = data11_df.drop('Bridgetech Holdings International, Inc.', axis = 0)\n",
    "data11_df = data11_df.drop('Java Detour, Inc.', axis = 0)\n",
    "data11_df = data11_df.drop('Law Enforcement Associates Corporation', axis = 0)\n",
    "data11_df = data11_df.drop('Sand Spring Capital', axis = 0)\n",
    "\n",
    "data11_df= data11_df.reset_index()"
   ]
  },
  {
   "cell_type": "code",
   "execution_count": 13,
   "metadata": {
    "ExecuteTime": {
     "end_time": "2019-09-03T23:41:02.069418Z",
     "start_time": "2019-09-03T23:41:02.055459Z"
    }
   },
   "outputs": [
    {
     "data": {
      "text/html": [
       "<div>\n",
       "<style scoped>\n",
       "    .dataframe tbody tr th:only-of-type {\n",
       "        vertical-align: middle;\n",
       "    }\n",
       "\n",
       "    .dataframe tbody tr th {\n",
       "        vertical-align: top;\n",
       "    }\n",
       "\n",
       "    .dataframe thead th {\n",
       "        text-align: right;\n",
       "    }\n",
       "</style>\n",
       "<table border=\"1\" class=\"dataframe\">\n",
       "  <thead>\n",
       "    <tr style=\"text-align: right;\">\n",
       "      <th></th>\n",
       "      <th>COMPANY</th>\n",
       "      <th>FISCAL_YEAR</th>\n",
       "      <th>STATE</th>\n",
       "      <th>ASSETS_MILLIONS</th>\n",
       "      <th>LIABILITIES_MILLIONS</th>\n",
       "      <th>COURT_DISTRICT</th>\n",
       "    </tr>\n",
       "  </thead>\n",
       "  <tbody>\n",
       "  </tbody>\n",
       "</table>\n",
       "</div>"
      ],
      "text/plain": [
       "Empty DataFrame\n",
       "Columns: [COMPANY, FISCAL_YEAR, STATE, ASSETS_MILLIONS, LIABILITIES_MILLIONS, COURT_DISTRICT]\n",
       "Index: []"
      ]
     },
     "execution_count": 13,
     "metadata": {},
     "output_type": "execute_result"
    }
   ],
   "source": [
    "data10_df[data10_df['COMPANY'] == 'Spongetech Delivery Systems, Inc.']"
   ]
  },
  {
   "cell_type": "code",
   "execution_count": 14,
   "metadata": {
    "ExecuteTime": {
     "end_time": "2019-09-03T23:41:03.200633Z",
     "start_time": "2019-09-03T23:41:03.191655Z"
    }
   },
   "outputs": [
    {
     "data": {
      "text/html": [
       "<div>\n",
       "<style scoped>\n",
       "    .dataframe tbody tr th:only-of-type {\n",
       "        vertical-align: middle;\n",
       "    }\n",
       "\n",
       "    .dataframe tbody tr th {\n",
       "        vertical-align: top;\n",
       "    }\n",
       "\n",
       "    .dataframe thead th {\n",
       "        text-align: right;\n",
       "    }\n",
       "</style>\n",
       "<table border=\"1\" class=\"dataframe\">\n",
       "  <thead>\n",
       "    <tr style=\"text-align: right;\">\n",
       "      <th></th>\n",
       "      <th>COMPANY</th>\n",
       "      <th>FISCAL_YEAR</th>\n",
       "      <th>STATE</th>\n",
       "      <th>ASSETS_MILLIONS</th>\n",
       "      <th>LIABILITIES_MILLIONS</th>\n",
       "      <th>COURT_DISTRICT</th>\n",
       "    </tr>\n",
       "  </thead>\n",
       "  <tbody>\n",
       "  </tbody>\n",
       "</table>\n",
       "</div>"
      ],
      "text/plain": [
       "Empty DataFrame\n",
       "Columns: [COMPANY, FISCAL_YEAR, STATE, ASSETS_MILLIONS, LIABILITIES_MILLIONS, COURT_DISTRICT]\n",
       "Index: []"
      ]
     },
     "execution_count": 14,
     "metadata": {},
     "output_type": "execute_result"
    }
   ],
   "source": [
    "data11_df[data11_df['COMPANY'] == 'Bridgetech Holdings International, Inc.']"
   ]
  },
  {
   "cell_type": "code",
   "execution_count": 15,
   "metadata": {
    "ExecuteTime": {
     "end_time": "2019-09-03T23:41:04.045136Z",
     "start_time": "2019-09-03T23:41:04.039153Z"
    }
   },
   "outputs": [],
   "source": [
    "data10_df['ASSETS_MILLIONS'] = data10_df['ASSETS_MILLIONS'].str.replace(\",\",\"\",regex = True).astype(float)\n",
    "data10_df['LIABILITIES_MILLIONS'] = data10_df['LIABILITIES_MILLIONS'].str.replace(\",\",\"\",regex = True).astype(float)\n"
   ]
  },
  {
   "cell_type": "code",
   "execution_count": 16,
   "metadata": {
    "ExecuteTime": {
     "end_time": "2019-09-03T23:41:05.304431Z",
     "start_time": "2019-09-03T23:41:05.278970Z"
    }
   },
   "outputs": [
    {
     "data": {
      "text/html": [
       "<div>\n",
       "<style scoped>\n",
       "    .dataframe tbody tr th:only-of-type {\n",
       "        vertical-align: middle;\n",
       "    }\n",
       "\n",
       "    .dataframe tbody tr th {\n",
       "        vertical-align: top;\n",
       "    }\n",
       "\n",
       "    .dataframe thead th {\n",
       "        text-align: right;\n",
       "    }\n",
       "</style>\n",
       "<table border=\"1\" class=\"dataframe\">\n",
       "  <thead>\n",
       "    <tr style=\"text-align: right;\">\n",
       "      <th></th>\n",
       "      <th>COMPANY</th>\n",
       "      <th>FISCAL_YEAR</th>\n",
       "      <th>STATE</th>\n",
       "      <th>ASSETS_MILLIONS</th>\n",
       "      <th>LIABILITIES_MILLIONS</th>\n",
       "      <th>COURT_DISTRICT</th>\n",
       "    </tr>\n",
       "  </thead>\n",
       "  <tbody>\n",
       "    <tr>\n",
       "      <th>0</th>\n",
       "      <td>Advanta Group</td>\n",
       "      <td>2010</td>\n",
       "      <td>DE</td>\n",
       "      <td>363.00</td>\n",
       "      <td>331.000</td>\n",
       "      <td>D</td>\n",
       "    </tr>\n",
       "    <tr>\n",
       "      <th>1</th>\n",
       "      <td>Amcore Financial, Inc.</td>\n",
       "      <td>2010</td>\n",
       "      <td>IL</td>\n",
       "      <td>7.00</td>\n",
       "      <td>75.000</td>\n",
       "      <td>ND</td>\n",
       "    </tr>\n",
       "    <tr>\n",
       "      <th>2</th>\n",
       "      <td>American Mortgage Acceptance Company</td>\n",
       "      <td>2010</td>\n",
       "      <td>NY</td>\n",
       "      <td>6.37</td>\n",
       "      <td>119.968</td>\n",
       "      <td>SD</td>\n",
       "    </tr>\n",
       "    <tr>\n",
       "      <th>3</th>\n",
       "      <td>Barzel Industries, Inc.</td>\n",
       "      <td>2010</td>\n",
       "      <td>DE</td>\n",
       "      <td>366.00</td>\n",
       "      <td>385.000</td>\n",
       "      <td>D</td>\n",
       "    </tr>\n",
       "    <tr>\n",
       "      <th>4</th>\n",
       "      <td>Baseline Oil &amp; Gas Corp.</td>\n",
       "      <td>2010</td>\n",
       "      <td>TX</td>\n",
       "      <td>80.00</td>\n",
       "      <td>139.000</td>\n",
       "      <td>SD</td>\n",
       "    </tr>\n",
       "    <tr>\n",
       "      <th>5</th>\n",
       "      <td>Blockbuster</td>\n",
       "      <td>2010</td>\n",
       "      <td>NY</td>\n",
       "      <td>1017.04</td>\n",
       "      <td>1464.940</td>\n",
       "      <td>SD</td>\n",
       "    </tr>\n",
       "    <tr>\n",
       "      <th>6</th>\n",
       "      <td>BSML, Inc.</td>\n",
       "      <td>2010</td>\n",
       "      <td>FL</td>\n",
       "      <td>6.94</td>\n",
       "      <td>9.970</td>\n",
       "      <td>SD</td>\n",
       "    </tr>\n",
       "    <tr>\n",
       "      <th>7</th>\n",
       "      <td>California Coastal Communities, Inc.</td>\n",
       "      <td>2010</td>\n",
       "      <td>CA</td>\n",
       "      <td>291.00</td>\n",
       "      <td>231.000</td>\n",
       "      <td>CD</td>\n",
       "    </tr>\n",
       "    <tr>\n",
       "      <th>8</th>\n",
       "      <td>Canopy Financial, Inc.</td>\n",
       "      <td>2010</td>\n",
       "      <td>IL</td>\n",
       "      <td>18.99</td>\n",
       "      <td>25.840</td>\n",
       "      <td>ND</td>\n",
       "    </tr>\n",
       "    <tr>\n",
       "      <th>9</th>\n",
       "      <td>Capital Growth Systems Inc.</td>\n",
       "      <td>2010</td>\n",
       "      <td>DE</td>\n",
       "      <td>26.97</td>\n",
       "      <td>17.146</td>\n",
       "      <td>D</td>\n",
       "    </tr>\n",
       "    <tr>\n",
       "      <th>10</th>\n",
       "      <td>Ceragenix Pharmaceuticals, Inc. et al.</td>\n",
       "      <td>2010</td>\n",
       "      <td>CO</td>\n",
       "      <td>1.50</td>\n",
       "      <td>12.960</td>\n",
       "      <td>D</td>\n",
       "    </tr>\n",
       "    <tr>\n",
       "      <th>11</th>\n",
       "      <td>Certified Diabetic Services, Inc.</td>\n",
       "      <td>2010</td>\n",
       "      <td>FL</td>\n",
       "      <td>0.40</td>\n",
       "      <td>0.810</td>\n",
       "      <td>MD</td>\n",
       "    </tr>\n",
       "    <tr>\n",
       "      <th>12</th>\n",
       "      <td>Chem Rx Corp.</td>\n",
       "      <td>2010</td>\n",
       "      <td>DE</td>\n",
       "      <td>169.69</td>\n",
       "      <td>178.280</td>\n",
       "      <td>D</td>\n",
       "    </tr>\n",
       "    <tr>\n",
       "      <th>13</th>\n",
       "      <td>CIB Maine Bancshares, Inc.</td>\n",
       "      <td>2010</td>\n",
       "      <td>WI</td>\n",
       "      <td>105.00</td>\n",
       "      <td>107.000</td>\n",
       "      <td>ED</td>\n",
       "    </tr>\n",
       "    <tr>\n",
       "      <th>14</th>\n",
       "      <td>Ciena Capitol LLC</td>\n",
       "      <td>2010</td>\n",
       "      <td>NY</td>\n",
       "      <td>521.00</td>\n",
       "      <td>584.000</td>\n",
       "      <td>SD</td>\n",
       "    </tr>\n",
       "    <tr>\n",
       "      <th>15</th>\n",
       "      <td>CIT Group Inc.</td>\n",
       "      <td>2010</td>\n",
       "      <td>NY</td>\n",
       "      <td>71019.20</td>\n",
       "      <td>64901.200</td>\n",
       "      <td>SD</td>\n",
       "    </tr>\n",
       "    <tr>\n",
       "      <th>16</th>\n",
       "      <td>Citadel Broadcastig Corp.</td>\n",
       "      <td>2010</td>\n",
       "      <td>NY</td>\n",
       "      <td>1400.58</td>\n",
       "      <td>2464.310</td>\n",
       "      <td>SD</td>\n",
       "    </tr>\n",
       "    <tr>\n",
       "      <th>17</th>\n",
       "      <td>Corus Bankshares, Inc.</td>\n",
       "      <td>2010</td>\n",
       "      <td>IL</td>\n",
       "      <td>314.15</td>\n",
       "      <td>532.940</td>\n",
       "      <td>ND</td>\n",
       "    </tr>\n",
       "    <tr>\n",
       "      <th>18</th>\n",
       "      <td>Cross Canyon Energy Corp.</td>\n",
       "      <td>2010</td>\n",
       "      <td>TX</td>\n",
       "      <td>53.35</td>\n",
       "      <td>41.810</td>\n",
       "      <td>SD</td>\n",
       "    </tr>\n",
       "    <tr>\n",
       "      <th>19</th>\n",
       "      <td>DiscoverNet, In.</td>\n",
       "      <td>2010</td>\n",
       "      <td>WI</td>\n",
       "      <td>701.00</td>\n",
       "      <td>403.000</td>\n",
       "      <td>WD</td>\n",
       "    </tr>\n",
       "    <tr>\n",
       "      <th>20</th>\n",
       "      <td>ECO2 Plastics, Inc.</td>\n",
       "      <td>2010</td>\n",
       "      <td>CA</td>\n",
       "      <td>1.70</td>\n",
       "      <td>6.390</td>\n",
       "      <td>ND</td>\n",
       "    </tr>\n",
       "    <tr>\n",
       "      <th>21</th>\n",
       "      <td>Edge Petroleum Corp.</td>\n",
       "      <td>2010</td>\n",
       "      <td>TX</td>\n",
       "      <td>264.00</td>\n",
       "      <td>234.000</td>\n",
       "      <td>SD</td>\n",
       "    </tr>\n",
       "    <tr>\n",
       "      <th>22</th>\n",
       "      <td>FairPoint Communications</td>\n",
       "      <td>2010</td>\n",
       "      <td>NY</td>\n",
       "      <td>3235.60</td>\n",
       "      <td>3234.470</td>\n",
       "      <td>SD</td>\n",
       "    </tr>\n",
       "    <tr>\n",
       "      <th>23</th>\n",
       "      <td>FirstFed Financial Corp.</td>\n",
       "      <td>2010</td>\n",
       "      <td>CA</td>\n",
       "      <td>4.47</td>\n",
       "      <td>159.650</td>\n",
       "      <td>CD</td>\n",
       "    </tr>\n",
       "    <tr>\n",
       "      <th>24</th>\n",
       "      <td>Firstfold Corp.</td>\n",
       "      <td>2010</td>\n",
       "      <td>NV</td>\n",
       "      <td>17.96</td>\n",
       "      <td>26.980</td>\n",
       "      <td>D</td>\n",
       "    </tr>\n",
       "    <tr>\n",
       "      <th>25</th>\n",
       "      <td>GigaBeam Corp.</td>\n",
       "      <td>2010</td>\n",
       "      <td>DE</td>\n",
       "      <td>3.18</td>\n",
       "      <td>9.396</td>\n",
       "      <td>D</td>\n",
       "    </tr>\n",
       "    <tr>\n",
       "      <th>26</th>\n",
       "      <td>GSC Group</td>\n",
       "      <td>2010</td>\n",
       "      <td>NY</td>\n",
       "      <td>119.79</td>\n",
       "      <td>313.560</td>\n",
       "      <td>SD</td>\n",
       "    </tr>\n",
       "    <tr>\n",
       "      <th>27</th>\n",
       "      <td>GSI Group</td>\n",
       "      <td>2010</td>\n",
       "      <td>DE</td>\n",
       "      <td>555.00</td>\n",
       "      <td>370.000</td>\n",
       "      <td>D</td>\n",
       "    </tr>\n",
       "    <tr>\n",
       "      <th>28</th>\n",
       "      <td>Guaranty Financial Group, Inc. et al.</td>\n",
       "      <td>2010</td>\n",
       "      <td>TX</td>\n",
       "      <td>15391.00</td>\n",
       "      <td>14390.000</td>\n",
       "      <td>ND</td>\n",
       "    </tr>\n",
       "    <tr>\n",
       "      <th>29</th>\n",
       "      <td>Imperial Capitol Bancorp Inc.</td>\n",
       "      <td>2010</td>\n",
       "      <td>CA</td>\n",
       "      <td>20.00</td>\n",
       "      <td>190.860</td>\n",
       "      <td>CA</td>\n",
       "    </tr>\n",
       "    <tr>\n",
       "      <th>30</th>\n",
       "      <td>Isco International, Inc.</td>\n",
       "      <td>2010</td>\n",
       "      <td>IL</td>\n",
       "      <td>5.28</td>\n",
       "      <td>25.460</td>\n",
       "      <td>ND</td>\n",
       "    </tr>\n",
       "    <tr>\n",
       "      <th>31</th>\n",
       "      <td>Jennifer Covertibles Inc.</td>\n",
       "      <td>2010</td>\n",
       "      <td>NY</td>\n",
       "      <td>25.97</td>\n",
       "      <td>46.353</td>\n",
       "      <td>SD</td>\n",
       "    </tr>\n",
       "    <tr>\n",
       "      <th>32</th>\n",
       "      <td>Jesup &amp; Lamont, Inc. , JWA</td>\n",
       "      <td>2010</td>\n",
       "      <td>NY</td>\n",
       "      <td>41.15</td>\n",
       "      <td>24.564</td>\n",
       "      <td>SD</td>\n",
       "    </tr>\n",
       "    <tr>\n",
       "      <th>33</th>\n",
       "      <td>Kolorfusion International Inc.</td>\n",
       "      <td>2010</td>\n",
       "      <td>CO</td>\n",
       "      <td>596.70</td>\n",
       "      <td>2.490</td>\n",
       "      <td>D</td>\n",
       "    </tr>\n",
       "    <tr>\n",
       "      <th>34</th>\n",
       "      <td>MDI, Inc.</td>\n",
       "      <td>2010</td>\n",
       "      <td>TX</td>\n",
       "      <td>5.18</td>\n",
       "      <td>2.990</td>\n",
       "      <td>WD</td>\n",
       "    </tr>\n",
       "    <tr>\n",
       "      <th>35</th>\n",
       "      <td>Medical Staffing Network</td>\n",
       "      <td>2010</td>\n",
       "      <td>FL</td>\n",
       "      <td>96.00</td>\n",
       "      <td>150.000</td>\n",
       "      <td>SD</td>\n",
       "    </tr>\n",
       "    <tr>\n",
       "      <th>36</th>\n",
       "      <td>Mesa Air Group, Inc.</td>\n",
       "      <td>2010</td>\n",
       "      <td>NY</td>\n",
       "      <td>975.49</td>\n",
       "      <td>868.590</td>\n",
       "      <td>SD</td>\n",
       "    </tr>\n",
       "    <tr>\n",
       "      <th>37</th>\n",
       "      <td>Neenah Enterprises, Inc.</td>\n",
       "      <td>2010</td>\n",
       "      <td>DE</td>\n",
       "      <td>286.61</td>\n",
       "      <td>449.100</td>\n",
       "      <td>D</td>\n",
       "    </tr>\n",
       "    <tr>\n",
       "      <th>38</th>\n",
       "      <td>NutraCea</td>\n",
       "      <td>2010</td>\n",
       "      <td>AZ</td>\n",
       "      <td>83.70</td>\n",
       "      <td>18.900</td>\n",
       "      <td>D</td>\n",
       "    </tr>\n",
       "    <tr>\n",
       "      <th>39</th>\n",
       "      <td>Orleans Homebuilders, Inc.</td>\n",
       "      <td>2010</td>\n",
       "      <td>DE</td>\n",
       "      <td>591.46</td>\n",
       "      <td>560.130</td>\n",
       "      <td>D</td>\n",
       "    </tr>\n",
       "    <tr>\n",
       "      <th>40</th>\n",
       "      <td>Otter Tail AG Enterprises LLC</td>\n",
       "      <td>2010</td>\n",
       "      <td>MN</td>\n",
       "      <td>67.00</td>\n",
       "      <td>86.000</td>\n",
       "      <td>D</td>\n",
       "    </tr>\n",
       "    <tr>\n",
       "      <th>41</th>\n",
       "      <td>PNG Ventures, Inc.</td>\n",
       "      <td>2010</td>\n",
       "      <td>DE</td>\n",
       "      <td>40.00</td>\n",
       "      <td>45.000</td>\n",
       "      <td>D</td>\n",
       "    </tr>\n",
       "    <tr>\n",
       "      <th>42</th>\n",
       "      <td>Protective Products of America, Inc.</td>\n",
       "      <td>2010</td>\n",
       "      <td>FL</td>\n",
       "      <td>27.00</td>\n",
       "      <td>29.000</td>\n",
       "      <td>SD</td>\n",
       "    </tr>\n",
       "    <tr>\n",
       "      <th>43</th>\n",
       "      <td>Provident Royalties, L.L.C et al.</td>\n",
       "      <td>2010</td>\n",
       "      <td>TX</td>\n",
       "      <td>443.31</td>\n",
       "      <td>466.050</td>\n",
       "      <td>ND</td>\n",
       "    </tr>\n",
       "    <tr>\n",
       "      <th>44</th>\n",
       "      <td>R &amp; G Financial Corporation</td>\n",
       "      <td>2010</td>\n",
       "      <td>PR</td>\n",
       "      <td>40.00</td>\n",
       "      <td>421.000</td>\n",
       "      <td>D</td>\n",
       "    </tr>\n",
       "    <tr>\n",
       "      <th>45</th>\n",
       "      <td>Rancher Energy Corp.</td>\n",
       "      <td>2010</td>\n",
       "      <td>CO</td>\n",
       "      <td>32.30</td>\n",
       "      <td>11.580</td>\n",
       "      <td>D</td>\n",
       "    </tr>\n",
       "    <tr>\n",
       "      <th>46</th>\n",
       "      <td>RCLC</td>\n",
       "      <td>2010</td>\n",
       "      <td>NJ</td>\n",
       "      <td>16.37</td>\n",
       "      <td>10.371</td>\n",
       "      <td>D</td>\n",
       "    </tr>\n",
       "    <tr>\n",
       "      <th>47</th>\n",
       "      <td>Regent Comms., Inc. , Riveria Holdings</td>\n",
       "      <td>2010</td>\n",
       "      <td>DE</td>\n",
       "      <td>166.51</td>\n",
       "      <td>68.490</td>\n",
       "      <td>D</td>\n",
       "    </tr>\n",
       "    <tr>\n",
       "      <th>48</th>\n",
       "      <td>South Texas Oil Company</td>\n",
       "      <td>2010</td>\n",
       "      <td>TX</td>\n",
       "      <td>49.07</td>\n",
       "      <td>27.900</td>\n",
       "      <td>WD</td>\n",
       "    </tr>\n",
       "    <tr>\n",
       "      <th>49</th>\n",
       "      <td>Stamford Industrial Group</td>\n",
       "      <td>2010</td>\n",
       "      <td>OH</td>\n",
       "      <td>62.20</td>\n",
       "      <td>14.310</td>\n",
       "      <td>ND</td>\n",
       "    </tr>\n",
       "    <tr>\n",
       "      <th>50</th>\n",
       "      <td>The Penn Traffic Company</td>\n",
       "      <td>2010</td>\n",
       "      <td>DE</td>\n",
       "      <td>150.38</td>\n",
       "      <td>136.870</td>\n",
       "      <td>D</td>\n",
       "    </tr>\n",
       "    <tr>\n",
       "      <th>51</th>\n",
       "      <td>TLC Vision Corp.</td>\n",
       "      <td>2010</td>\n",
       "      <td>DE</td>\n",
       "      <td>130.07</td>\n",
       "      <td>166.850</td>\n",
       "      <td>D</td>\n",
       "    </tr>\n",
       "    <tr>\n",
       "      <th>52</th>\n",
       "      <td>Topspin Medical, Inc.</td>\n",
       "      <td>2010</td>\n",
       "      <td>DE</td>\n",
       "      <td>0.36</td>\n",
       "      <td>0.540</td>\n",
       "      <td>D</td>\n",
       "    </tr>\n",
       "    <tr>\n",
       "      <th>53</th>\n",
       "      <td>Trico Marine Services, Triple Crown Media</td>\n",
       "      <td>2010</td>\n",
       "      <td>NY</td>\n",
       "      <td>535.20</td>\n",
       "      <td>472.700</td>\n",
       "      <td>SD</td>\n",
       "    </tr>\n",
       "    <tr>\n",
       "      <th>54</th>\n",
       "      <td>U.S. Concrete, Inc.</td>\n",
       "      <td>2010</td>\n",
       "      <td>DE</td>\n",
       "      <td>389.16</td>\n",
       "      <td>399.350</td>\n",
       "      <td>D</td>\n",
       "    </tr>\n",
       "    <tr>\n",
       "      <th>55</th>\n",
       "      <td>Velocity Express Corp.</td>\n",
       "      <td>2010</td>\n",
       "      <td>DE</td>\n",
       "      <td>94.00</td>\n",
       "      <td>121.000</td>\n",
       "      <td>D</td>\n",
       "    </tr>\n",
       "    <tr>\n",
       "      <th>56</th>\n",
       "      <td>Vermillioin Inc.</td>\n",
       "      <td>2010</td>\n",
       "      <td>DE</td>\n",
       "      <td>7.15</td>\n",
       "      <td>32.015</td>\n",
       "      <td>D</td>\n",
       "    </tr>\n",
       "    <tr>\n",
       "      <th>57</th>\n",
       "      <td>Vion Pharmaceuticals, Inc.</td>\n",
       "      <td>2010</td>\n",
       "      <td>DE</td>\n",
       "      <td>3030.85</td>\n",
       "      <td>2366.240</td>\n",
       "      <td>D</td>\n",
       "    </tr>\n",
       "    <tr>\n",
       "      <th>58</th>\n",
       "      <td>Visteon Corp.</td>\n",
       "      <td>2010</td>\n",
       "      <td>DE</td>\n",
       "      <td>4577.03</td>\n",
       "      <td>5324.030</td>\n",
       "      <td>D</td>\n",
       "    </tr>\n",
       "    <tr>\n",
       "      <th>59</th>\n",
       "      <td>Xerium Technologies, Inc.</td>\n",
       "      <td>2010</td>\n",
       "      <td>DE</td>\n",
       "      <td>694.00</td>\n",
       "      <td>813.000</td>\n",
       "      <td>D</td>\n",
       "    </tr>\n",
       "  </tbody>\n",
       "</table>\n",
       "</div>"
      ],
      "text/plain": [
       "                                      COMPANY  FISCAL_YEAR STATE  \\\n",
       "0                               Advanta Group         2010    DE   \n",
       "1                      Amcore Financial, Inc.         2010    IL   \n",
       "2        American Mortgage Acceptance Company         2010    NY   \n",
       "3                     Barzel Industries, Inc.         2010    DE   \n",
       "4                    Baseline Oil & Gas Corp.         2010    TX   \n",
       "5                                 Blockbuster         2010    NY   \n",
       "6                                  BSML, Inc.         2010    FL   \n",
       "7        California Coastal Communities, Inc.         2010    CA   \n",
       "8                      Canopy Financial, Inc.         2010    IL   \n",
       "9                 Capital Growth Systems Inc.         2010    DE   \n",
       "10     Ceragenix Pharmaceuticals, Inc. et al.         2010    CO   \n",
       "11          Certified Diabetic Services, Inc.         2010    FL   \n",
       "12                              Chem Rx Corp.         2010    DE   \n",
       "13                 CIB Maine Bancshares, Inc.         2010    WI   \n",
       "14                          Ciena Capitol LLC         2010    NY   \n",
       "15                             CIT Group Inc.         2010    NY   \n",
       "16                  Citadel Broadcastig Corp.         2010    NY   \n",
       "17                     Corus Bankshares, Inc.         2010    IL   \n",
       "18                  Cross Canyon Energy Corp.         2010    TX   \n",
       "19                           DiscoverNet, In.         2010    WI   \n",
       "20                        ECO2 Plastics, Inc.         2010    CA   \n",
       "21                       Edge Petroleum Corp.         2010    TX   \n",
       "22                   FairPoint Communications         2010    NY   \n",
       "23                   FirstFed Financial Corp.         2010    CA   \n",
       "24                            Firstfold Corp.         2010    NV   \n",
       "25                             GigaBeam Corp.         2010    DE   \n",
       "26                                  GSC Group         2010    NY   \n",
       "27                                  GSI Group         2010    DE   \n",
       "28      Guaranty Financial Group, Inc. et al.         2010    TX   \n",
       "29              Imperial Capitol Bancorp Inc.         2010    CA   \n",
       "30                   Isco International, Inc.         2010    IL   \n",
       "31                  Jennifer Covertibles Inc.         2010    NY   \n",
       "32                 Jesup & Lamont, Inc. , JWA         2010    NY   \n",
       "33             Kolorfusion International Inc.         2010    CO   \n",
       "34                                  MDI, Inc.         2010    TX   \n",
       "35                   Medical Staffing Network         2010    FL   \n",
       "36                       Mesa Air Group, Inc.         2010    NY   \n",
       "37                   Neenah Enterprises, Inc.         2010    DE   \n",
       "38                                   NutraCea         2010    AZ   \n",
       "39                 Orleans Homebuilders, Inc.         2010    DE   \n",
       "40              Otter Tail AG Enterprises LLC         2010    MN   \n",
       "41                         PNG Ventures, Inc.         2010    DE   \n",
       "42       Protective Products of America, Inc.         2010    FL   \n",
       "43          Provident Royalties, L.L.C et al.         2010    TX   \n",
       "44                R & G Financial Corporation         2010    PR   \n",
       "45                       Rancher Energy Corp.         2010    CO   \n",
       "46                                       RCLC         2010    NJ   \n",
       "47     Regent Comms., Inc. , Riveria Holdings         2010    DE   \n",
       "48                    South Texas Oil Company         2010    TX   \n",
       "49                  Stamford Industrial Group         2010    OH   \n",
       "50                   The Penn Traffic Company         2010    DE   \n",
       "51                           TLC Vision Corp.         2010    DE   \n",
       "52                      Topspin Medical, Inc.         2010    DE   \n",
       "53  Trico Marine Services, Triple Crown Media         2010    NY   \n",
       "54                        U.S. Concrete, Inc.         2010    DE   \n",
       "55                     Velocity Express Corp.         2010    DE   \n",
       "56                           Vermillioin Inc.         2010    DE   \n",
       "57                 Vion Pharmaceuticals, Inc.         2010    DE   \n",
       "58                              Visteon Corp.         2010    DE   \n",
       "59                  Xerium Technologies, Inc.         2010    DE   \n",
       "\n",
       "    ASSETS_MILLIONS  LIABILITIES_MILLIONS COURT_DISTRICT  \n",
       "0            363.00               331.000              D  \n",
       "1              7.00                75.000             ND  \n",
       "2              6.37               119.968             SD  \n",
       "3            366.00               385.000              D  \n",
       "4             80.00               139.000             SD  \n",
       "5           1017.04              1464.940             SD  \n",
       "6              6.94                 9.970             SD  \n",
       "7            291.00               231.000             CD  \n",
       "8             18.99                25.840             ND  \n",
       "9             26.97                17.146              D  \n",
       "10             1.50                12.960              D  \n",
       "11             0.40                 0.810             MD  \n",
       "12           169.69               178.280              D  \n",
       "13           105.00               107.000             ED  \n",
       "14           521.00               584.000             SD  \n",
       "15         71019.20             64901.200             SD  \n",
       "16          1400.58              2464.310             SD  \n",
       "17           314.15               532.940             ND  \n",
       "18            53.35                41.810             SD  \n",
       "19           701.00               403.000             WD  \n",
       "20             1.70                 6.390             ND  \n",
       "21           264.00               234.000             SD  \n",
       "22          3235.60              3234.470             SD  \n",
       "23             4.47               159.650             CD  \n",
       "24            17.96                26.980              D  \n",
       "25             3.18                 9.396              D  \n",
       "26           119.79               313.560             SD  \n",
       "27           555.00               370.000              D  \n",
       "28         15391.00             14390.000             ND  \n",
       "29            20.00               190.860             CA  \n",
       "30             5.28                25.460             ND  \n",
       "31            25.97                46.353             SD  \n",
       "32            41.15                24.564             SD  \n",
       "33           596.70                 2.490              D  \n",
       "34             5.18                 2.990             WD  \n",
       "35            96.00               150.000             SD  \n",
       "36           975.49               868.590             SD  \n",
       "37           286.61               449.100              D  \n",
       "38            83.70                18.900              D  \n",
       "39           591.46               560.130              D  \n",
       "40            67.00                86.000              D  \n",
       "41            40.00                45.000              D  \n",
       "42            27.00                29.000             SD  \n",
       "43           443.31               466.050             ND  \n",
       "44            40.00               421.000              D  \n",
       "45            32.30                11.580              D  \n",
       "46            16.37                10.371              D  \n",
       "47           166.51                68.490              D  \n",
       "48            49.07                27.900             WD  \n",
       "49            62.20                14.310             ND  \n",
       "50           150.38               136.870              D  \n",
       "51           130.07               166.850              D  \n",
       "52             0.36                 0.540              D  \n",
       "53           535.20               472.700             SD  \n",
       "54           389.16               399.350              D  \n",
       "55            94.00               121.000              D  \n",
       "56             7.15                32.015              D  \n",
       "57          3030.85              2366.240              D  \n",
       "58          4577.03              5324.030              D  \n",
       "59           694.00               813.000              D  "
      ]
     },
     "execution_count": 16,
     "metadata": {},
     "output_type": "execute_result"
    }
   ],
   "source": [
    "data10_df.dtypes\n",
    "data10_df.head(10000)"
   ]
  },
  {
   "cell_type": "code",
   "execution_count": 17,
   "metadata": {
    "ExecuteTime": {
     "end_time": "2019-09-03T23:41:06.347609Z",
     "start_time": "2019-09-03T23:41:06.341663Z"
    }
   },
   "outputs": [],
   "source": [
    "data11_df['ASSETS_MILLIONS'] = data11_df['ASSETS_MILLIONS'].str.replace(\",\",\"\",regex = True).astype(float)\n",
    "data11_df['LIABILITIES_MILLIONS'] = data11_df['LIABILITIES_MILLIONS'].str.replace(\",\",\"\",regex = True).astype(float)"
   ]
  },
  {
   "cell_type": "code",
   "execution_count": 18,
   "metadata": {
    "ExecuteTime": {
     "end_time": "2019-09-03T23:41:07.806542Z",
     "start_time": "2019-09-03T23:41:07.791583Z"
    },
    "scrolled": true
   },
   "outputs": [
    {
     "data": {
      "text/plain": [
       "FISCAL_YEAR               int64\n",
       "STATE                    object\n",
       "COMPANY                  object\n",
       "ASSETS_MILLIONS         float64\n",
       "LIABILITIES_MILLIONS    float64\n",
       "COURT_DISTRICT           object\n",
       "dtype: object"
      ]
     },
     "execution_count": 18,
     "metadata": {},
     "output_type": "execute_result"
    }
   ],
   "source": [
    "# Append data for all three years\n",
    "appen1 =  data09_df.append(data10_df, ignore_index = True, sort = \"false\")\n",
    "appen2 =  appen1.append(data11_df, ignore_index = True, sort = \"false\")\n",
    "\n",
    "# Rearrenge columns of all data and reaname columns\n",
    "\n",
    "appen2 = appen2[['FISCAL_YEAR','STATE', 'COMPANY', 'ASSETS_MILLIONS','LIABILITIES_MILLIONS', 'COURT_DISTRICT']] \n",
    "\n",
    "appen2.dtypes\n"
   ]
  },
  {
   "cell_type": "code",
   "execution_count": 19,
   "metadata": {
    "ExecuteTime": {
     "end_time": "2019-09-03T23:41:08.843235Z",
     "start_time": "2019-09-03T23:41:08.808255Z"
    }
   },
   "outputs": [],
   "source": [
    "data09_clean = data09_df\n",
    "data10_clean = data10_df\n",
    "data11_clean = data11_df\n",
    "\n",
    "combined_data = appen2\n",
    "\n",
    "data09_clean.to_csv(\"bankruptcy_data/data09_clean.csv\", index=False, encoding='utf8')\n",
    "data10_clean.to_csv(\"bankruptcy_data/data10_clean.csv\", index=False, encoding='utf8')\n",
    "data11_clean.to_csv(\"bankruptcy_data/data11_clean.csv\", index=False, encoding='utf8')\n",
    "combined_data.to_csv(\"bankruptcy_data/combined_data.csv\", index=False, encoding='utf8')\n",
    "\n",
    "data09_clean.to_json(\"bankruptcy_data/data09_clean.json\", orient='columns')\n",
    "data10_clean.to_json(\"bankruptcy_data/data10_clean.json\", orient='columns')\n",
    "data11_clean.to_json(\"bankruptcy_data/data11_clean.json\", orient='columns')\n",
    "combined_data.to_json(\"bankruptcy_data/combined_data.json\", orient='columns')"
   ]
  },
  {
   "cell_type": "markdown",
   "metadata": {},
   "source": [
    "# Load"
   ]
  },
  {
   "cell_type": "code",
   "execution_count": 20,
   "metadata": {
    "ExecuteTime": {
     "end_time": "2019-09-03T23:41:12.190382Z",
     "start_time": "2019-09-03T23:41:12.184367Z"
    }
   },
   "outputs": [],
   "source": [
    "from sqlalchemy import create_engine\n",
    "import secret"
   ]
  },
  {
   "cell_type": "code",
   "execution_count": 21,
   "metadata": {
    "ExecuteTime": {
     "end_time": "2019-09-03T23:41:12.988160Z",
     "start_time": "2019-09-03T23:41:12.911094Z"
    }
   },
   "outputs": [],
   "source": [
    "# connect to local database \n",
    "engine = create_engine(f\"postgresql://{secret.user_pass}@localhost:5432/bankruptcyDB\")\n",
    "# connection = engine.connect()"
   ]
  },
  {
   "cell_type": "code",
   "execution_count": 22,
   "metadata": {
    "ExecuteTime": {
     "end_time": "2019-09-03T23:41:14.340216Z",
     "start_time": "2019-09-03T23:41:14.280380Z"
    }
   },
   "outputs": [
    {
     "data": {
      "text/plain": [
       "['data2009', 'data2010', 'data2011', 'combined_data']"
      ]
     },
     "execution_count": 22,
     "metadata": {},
     "output_type": "execute_result"
    }
   ],
   "source": [
    "engine.table_names()"
   ]
  },
  {
   "cell_type": "code",
   "execution_count": 24,
   "metadata": {
    "ExecuteTime": {
     "end_time": "2019-09-03T23:43:22.937803Z",
     "start_time": "2019-09-03T23:43:22.761678Z"
    }
   },
   "outputs": [],
   "source": [
    "#  Use pandas to load csv converted DataFrame into database\n",
    "data09_clean.to_sql(name='data2009', con=engine, if_exists='append', index=False)\n",
    "data10_clean.to_sql(name='data2010', con=engine, if_exists='append', index=False)\n",
    "data11_clean.to_sql(name='data2011', con=engine, if_exists='append', index=False)\n",
    "combined_data.to_sql(name='combined_data', con=engine, if_exists='append', index=False)"
   ]
  },
  {
   "cell_type": "code",
   "execution_count": 25,
   "metadata": {
    "ExecuteTime": {
     "end_time": "2019-09-03T23:43:24.763103Z",
     "start_time": "2019-09-03T23:43:24.744119Z"
    }
   },
   "outputs": [
    {
     "data": {
      "text/html": [
       "<div>\n",
       "<style scoped>\n",
       "    .dataframe tbody tr th:only-of-type {\n",
       "        vertical-align: middle;\n",
       "    }\n",
       "\n",
       "    .dataframe tbody tr th {\n",
       "        vertical-align: top;\n",
       "    }\n",
       "\n",
       "    .dataframe thead th {\n",
       "        text-align: right;\n",
       "    }\n",
       "</style>\n",
       "<table border=\"1\" class=\"dataframe\">\n",
       "  <thead>\n",
       "    <tr style=\"text-align: right;\">\n",
       "      <th></th>\n",
       "      <th>FISCAL_YEAR</th>\n",
       "      <th>STATE</th>\n",
       "      <th>COMPANY</th>\n",
       "      <th>ASSETS_MILLIONS</th>\n",
       "      <th>LIABILITIES_MILLIONS</th>\n",
       "      <th>COURT_DISTRICT</th>\n",
       "    </tr>\n",
       "  </thead>\n",
       "  <tbody>\n",
       "    <tr>\n",
       "      <th>0</th>\n",
       "      <td>2009</td>\n",
       "      <td>FL</td>\n",
       "      <td>A21, Inc.</td>\n",
       "      <td>25.2</td>\n",
       "      <td>30.3</td>\n",
       "      <td>MD</td>\n",
       "    </tr>\n",
       "    <tr>\n",
       "      <th>1</th>\n",
       "      <td>2009</td>\n",
       "      <td>DE</td>\n",
       "      <td>Abitibibowater Inc.</td>\n",
       "      <td>9937.0</td>\n",
       "      <td>2213.0</td>\n",
       "      <td>D</td>\n",
       "    </tr>\n",
       "    <tr>\n",
       "      <th>2</th>\n",
       "      <td>2009</td>\n",
       "      <td>FL</td>\n",
       "      <td>Accentia Biopharmaceuticals, Inc.</td>\n",
       "      <td>134.9</td>\n",
       "      <td>77.6</td>\n",
       "      <td>MD</td>\n",
       "    </tr>\n",
       "    <tr>\n",
       "      <th>3</th>\n",
       "      <td>2009</td>\n",
       "      <td>DE</td>\n",
       "      <td>Accredited Home Lenders Holding Co.</td>\n",
       "      <td>799.5</td>\n",
       "      <td>490.7</td>\n",
       "      <td>D</td>\n",
       "    </tr>\n",
       "    <tr>\n",
       "      <th>4</th>\n",
       "      <td>2009</td>\n",
       "      <td>NY</td>\n",
       "      <td>Apex Silver Mines LTD</td>\n",
       "      <td>721.3</td>\n",
       "      <td>930.9</td>\n",
       "      <td>SD</td>\n",
       "    </tr>\n",
       "  </tbody>\n",
       "</table>\n",
       "</div>"
      ],
      "text/plain": [
       "   FISCAL_YEAR STATE                              COMPANY  ASSETS_MILLIONS  \\\n",
       "0         2009    FL                            A21, Inc.             25.2   \n",
       "1         2009    DE                  Abitibibowater Inc.           9937.0   \n",
       "2         2009    FL    Accentia Biopharmaceuticals, Inc.            134.9   \n",
       "3         2009    DE  Accredited Home Lenders Holding Co.            799.5   \n",
       "4         2009    NY                Apex Silver Mines LTD            721.3   \n",
       "\n",
       "   LIABILITIES_MILLIONS COURT_DISTRICT  \n",
       "0                  30.3             MD  \n",
       "1                2213.0              D  \n",
       "2                  77.6             MD  \n",
       "3                 490.7              D  \n",
       "4                 930.9             SD  "
      ]
     },
     "execution_count": 25,
     "metadata": {},
     "output_type": "execute_result"
    }
   ],
   "source": [
    "# Confirm data has been added by querying the tables\n",
    "\n",
    "pd.read_sql_query('select * from combined_data', con=engine).head()\n"
   ]
  },
  {
   "cell_type": "code",
   "execution_count": 26,
   "metadata": {
    "ExecuteTime": {
     "end_time": "2019-09-03T23:43:25.713593Z",
     "start_time": "2019-09-03T23:43:25.701003Z"
    }
   },
   "outputs": [
    {
     "data": {
      "text/html": [
       "<div>\n",
       "<style scoped>\n",
       "    .dataframe tbody tr th:only-of-type {\n",
       "        vertical-align: middle;\n",
       "    }\n",
       "\n",
       "    .dataframe tbody tr th {\n",
       "        vertical-align: top;\n",
       "    }\n",
       "\n",
       "    .dataframe thead th {\n",
       "        text-align: right;\n",
       "    }\n",
       "</style>\n",
       "<table border=\"1\" class=\"dataframe\">\n",
       "  <thead>\n",
       "    <tr style=\"text-align: right;\">\n",
       "      <th></th>\n",
       "      <th>FISCAL_YEAR</th>\n",
       "      <th>STATE</th>\n",
       "      <th>COMPANY</th>\n",
       "      <th>ASSETS_MILLIONS</th>\n",
       "      <th>LIABILITIES_MILLIONS</th>\n",
       "      <th>COURT_DISTRICT</th>\n",
       "    </tr>\n",
       "  </thead>\n",
       "  <tbody>\n",
       "    <tr>\n",
       "      <th>0</th>\n",
       "      <td>2009</td>\n",
       "      <td>FL</td>\n",
       "      <td>A21, Inc.</td>\n",
       "      <td>25.2</td>\n",
       "      <td>30.3</td>\n",
       "      <td>MD</td>\n",
       "    </tr>\n",
       "    <tr>\n",
       "      <th>1</th>\n",
       "      <td>2009</td>\n",
       "      <td>DE</td>\n",
       "      <td>Abitibibowater Inc.</td>\n",
       "      <td>9937.0</td>\n",
       "      <td>2213.0</td>\n",
       "      <td>D</td>\n",
       "    </tr>\n",
       "    <tr>\n",
       "      <th>2</th>\n",
       "      <td>2009</td>\n",
       "      <td>FL</td>\n",
       "      <td>Accentia Biopharmaceuticals, Inc.</td>\n",
       "      <td>134.9</td>\n",
       "      <td>77.6</td>\n",
       "      <td>MD</td>\n",
       "    </tr>\n",
       "    <tr>\n",
       "      <th>3</th>\n",
       "      <td>2009</td>\n",
       "      <td>DE</td>\n",
       "      <td>Accredited Home Lenders Holding Co.</td>\n",
       "      <td>799.5</td>\n",
       "      <td>490.7</td>\n",
       "      <td>D</td>\n",
       "    </tr>\n",
       "    <tr>\n",
       "      <th>4</th>\n",
       "      <td>2009</td>\n",
       "      <td>NY</td>\n",
       "      <td>Apex Silver Mines LTD</td>\n",
       "      <td>721.3</td>\n",
       "      <td>930.9</td>\n",
       "      <td>SD</td>\n",
       "    </tr>\n",
       "  </tbody>\n",
       "</table>\n",
       "</div>"
      ],
      "text/plain": [
       "   FISCAL_YEAR STATE                              COMPANY  ASSETS_MILLIONS  \\\n",
       "0         2009    FL                            A21, Inc.             25.2   \n",
       "1         2009    DE                  Abitibibowater Inc.           9937.0   \n",
       "2         2009    FL    Accentia Biopharmaceuticals, Inc.            134.9   \n",
       "3         2009    DE  Accredited Home Lenders Holding Co.            799.5   \n",
       "4         2009    NY                Apex Silver Mines LTD            721.3   \n",
       "\n",
       "   LIABILITIES_MILLIONS COURT_DISTRICT  \n",
       "0                  30.3             MD  \n",
       "1                2213.0              D  \n",
       "2                  77.6             MD  \n",
       "3                 490.7              D  \n",
       "4                 930.9             SD  "
      ]
     },
     "execution_count": 26,
     "metadata": {},
     "output_type": "execute_result"
    }
   ],
   "source": [
    "pd.read_sql_query('select * from data2009', con=engine).head()"
   ]
  },
  {
   "cell_type": "code",
   "execution_count": 27,
   "metadata": {
    "ExecuteTime": {
     "end_time": "2019-09-03T23:43:26.539230Z",
     "start_time": "2019-09-03T23:43:26.519774Z"
    }
   },
   "outputs": [
    {
     "data": {
      "text/html": [
       "<div>\n",
       "<style scoped>\n",
       "    .dataframe tbody tr th:only-of-type {\n",
       "        vertical-align: middle;\n",
       "    }\n",
       "\n",
       "    .dataframe tbody tr th {\n",
       "        vertical-align: top;\n",
       "    }\n",
       "\n",
       "    .dataframe thead th {\n",
       "        text-align: right;\n",
       "    }\n",
       "</style>\n",
       "<table border=\"1\" class=\"dataframe\">\n",
       "  <thead>\n",
       "    <tr style=\"text-align: right;\">\n",
       "      <th></th>\n",
       "      <th>COMPANY</th>\n",
       "      <th>FISCAL_YEAR</th>\n",
       "      <th>STATE</th>\n",
       "      <th>ASSETS_MILLIONS</th>\n",
       "      <th>LIABILITIES_MILLIONS</th>\n",
       "      <th>COURT_DISTRICT</th>\n",
       "    </tr>\n",
       "  </thead>\n",
       "  <tbody>\n",
       "    <tr>\n",
       "      <th>0</th>\n",
       "      <td>Advanta Group</td>\n",
       "      <td>2010</td>\n",
       "      <td>DE</td>\n",
       "      <td>363.00</td>\n",
       "      <td>331.000</td>\n",
       "      <td>D</td>\n",
       "    </tr>\n",
       "    <tr>\n",
       "      <th>1</th>\n",
       "      <td>Amcore Financial, Inc.</td>\n",
       "      <td>2010</td>\n",
       "      <td>IL</td>\n",
       "      <td>7.00</td>\n",
       "      <td>75.000</td>\n",
       "      <td>ND</td>\n",
       "    </tr>\n",
       "    <tr>\n",
       "      <th>2</th>\n",
       "      <td>American Mortgage Acceptance Company</td>\n",
       "      <td>2010</td>\n",
       "      <td>NY</td>\n",
       "      <td>6.37</td>\n",
       "      <td>119.968</td>\n",
       "      <td>SD</td>\n",
       "    </tr>\n",
       "    <tr>\n",
       "      <th>3</th>\n",
       "      <td>Barzel Industries, Inc.</td>\n",
       "      <td>2010</td>\n",
       "      <td>DE</td>\n",
       "      <td>366.00</td>\n",
       "      <td>385.000</td>\n",
       "      <td>D</td>\n",
       "    </tr>\n",
       "    <tr>\n",
       "      <th>4</th>\n",
       "      <td>Baseline Oil &amp; Gas Corp.</td>\n",
       "      <td>2010</td>\n",
       "      <td>TX</td>\n",
       "      <td>80.00</td>\n",
       "      <td>139.000</td>\n",
       "      <td>SD</td>\n",
       "    </tr>\n",
       "  </tbody>\n",
       "</table>\n",
       "</div>"
      ],
      "text/plain": [
       "                                COMPANY  FISCAL_YEAR STATE  ASSETS_MILLIONS  \\\n",
       "0                         Advanta Group         2010    DE           363.00   \n",
       "1                Amcore Financial, Inc.         2010    IL             7.00   \n",
       "2  American Mortgage Acceptance Company         2010    NY             6.37   \n",
       "3               Barzel Industries, Inc.         2010    DE           366.00   \n",
       "4              Baseline Oil & Gas Corp.         2010    TX            80.00   \n",
       "\n",
       "   LIABILITIES_MILLIONS COURT_DISTRICT  \n",
       "0               331.000              D  \n",
       "1                75.000             ND  \n",
       "2               119.968             SD  \n",
       "3               385.000              D  \n",
       "4               139.000             SD  "
      ]
     },
     "execution_count": 27,
     "metadata": {},
     "output_type": "execute_result"
    }
   ],
   "source": [
    "pd.read_sql_query('select * from data2010', con=engine).head()"
   ]
  },
  {
   "cell_type": "code",
   "execution_count": 28,
   "metadata": {
    "ExecuteTime": {
     "end_time": "2019-09-03T23:43:27.256676Z",
     "start_time": "2019-09-03T23:43:27.239724Z"
    }
   },
   "outputs": [
    {
     "data": {
      "text/html": [
       "<div>\n",
       "<style scoped>\n",
       "    .dataframe tbody tr th:only-of-type {\n",
       "        vertical-align: middle;\n",
       "    }\n",
       "\n",
       "    .dataframe tbody tr th {\n",
       "        vertical-align: top;\n",
       "    }\n",
       "\n",
       "    .dataframe thead th {\n",
       "        text-align: right;\n",
       "    }\n",
       "</style>\n",
       "<table border=\"1\" class=\"dataframe\">\n",
       "  <thead>\n",
       "    <tr style=\"text-align: right;\">\n",
       "      <th></th>\n",
       "      <th>COMPANY</th>\n",
       "      <th>FISCAL_YEAR</th>\n",
       "      <th>STATE</th>\n",
       "      <th>ASSETS_MILLIONS</th>\n",
       "      <th>LIABILITIES_MILLIONS</th>\n",
       "      <th>COURT_DISTRICT</th>\n",
       "    </tr>\n",
       "  </thead>\n",
       "  <tbody>\n",
       "    <tr>\n",
       "      <th>0</th>\n",
       "      <td>Ad Systems Communications, Inc.</td>\n",
       "      <td>2011</td>\n",
       "      <td>NV</td>\n",
       "      <td>405.00</td>\n",
       "      <td>4.00</td>\n",
       "      <td>D</td>\n",
       "    </tr>\n",
       "    <tr>\n",
       "      <th>1</th>\n",
       "      <td>Alphatrade.com</td>\n",
       "      <td>2011</td>\n",
       "      <td>NV</td>\n",
       "      <td>686.00</td>\n",
       "      <td>4.00</td>\n",
       "      <td>D</td>\n",
       "    </tr>\n",
       "    <tr>\n",
       "      <th>2</th>\n",
       "      <td>AMBAC Financial Group</td>\n",
       "      <td>2011</td>\n",
       "      <td>NY</td>\n",
       "      <td>395.00</td>\n",
       "      <td>1683.00</td>\n",
       "      <td>SD</td>\n",
       "    </tr>\n",
       "    <tr>\n",
       "      <th>3</th>\n",
       "      <td>Ambassdors International , Inc.</td>\n",
       "      <td>2011</td>\n",
       "      <td>DE</td>\n",
       "      <td>86.44</td>\n",
       "      <td>87.32</td>\n",
       "      <td>D</td>\n",
       "    </tr>\n",
       "    <tr>\n",
       "      <th>4</th>\n",
       "      <td>American Pacific Financial Corporation</td>\n",
       "      <td>2011</td>\n",
       "      <td>NV</td>\n",
       "      <td>19.18</td>\n",
       "      <td>161.08</td>\n",
       "      <td>D</td>\n",
       "    </tr>\n",
       "  </tbody>\n",
       "</table>\n",
       "</div>"
      ],
      "text/plain": [
       "                                  COMPANY  FISCAL_YEAR STATE  ASSETS_MILLIONS  \\\n",
       "0         Ad Systems Communications, Inc.         2011    NV           405.00   \n",
       "1                          Alphatrade.com         2011    NV           686.00   \n",
       "2                   AMBAC Financial Group         2011    NY           395.00   \n",
       "3         Ambassdors International , Inc.         2011    DE            86.44   \n",
       "4  American Pacific Financial Corporation         2011    NV            19.18   \n",
       "\n",
       "   LIABILITIES_MILLIONS COURT_DISTRICT  \n",
       "0                  4.00              D  \n",
       "1                  4.00              D  \n",
       "2               1683.00             SD  \n",
       "3                 87.32              D  \n",
       "4                161.08              D  "
      ]
     },
     "execution_count": 28,
     "metadata": {},
     "output_type": "execute_result"
    }
   ],
   "source": [
    "pd.read_sql_query('select * from data2011', con=engine).head()"
   ]
  },
  {
   "cell_type": "code",
   "execution_count": 31,
   "metadata": {
    "ExecuteTime": {
     "end_time": "2019-09-03T23:51:22.557276Z",
     "start_time": "2019-09-03T23:51:22.536335Z"
    }
   },
   "outputs": [
    {
     "ename": "ResourceClosedError",
     "evalue": "This result object does not return rows. It has been closed automatically.",
     "output_type": "error",
     "traceback": [
      "\u001b[1;31m---------------------------------------------------------------------------\u001b[0m",
      "\u001b[1;31mAttributeError\u001b[0m                            Traceback (most recent call last)",
      "\u001b[1;32m~\\.conda\\envs\\PythonData\\lib\\site-packages\\sqlalchemy\\engine\\result.py\u001b[0m in \u001b[0;36m_fetchall_impl\u001b[1;34m(self)\u001b[0m\n\u001b[0;32m   1162\u001b[0m         \u001b[1;32mtry\u001b[0m\u001b[1;33m:\u001b[0m\u001b[1;33m\u001b[0m\u001b[1;33m\u001b[0m\u001b[0m\n\u001b[1;32m-> 1163\u001b[1;33m             \u001b[1;32mreturn\u001b[0m \u001b[0mself\u001b[0m\u001b[1;33m.\u001b[0m\u001b[0mcursor\u001b[0m\u001b[1;33m.\u001b[0m\u001b[0mfetchall\u001b[0m\u001b[1;33m(\u001b[0m\u001b[1;33m)\u001b[0m\u001b[1;33m\u001b[0m\u001b[1;33m\u001b[0m\u001b[0m\n\u001b[0m\u001b[0;32m   1164\u001b[0m         \u001b[1;32mexcept\u001b[0m \u001b[0mAttributeError\u001b[0m\u001b[1;33m:\u001b[0m\u001b[1;33m\u001b[0m\u001b[1;33m\u001b[0m\u001b[0m\n",
      "\u001b[1;31mAttributeError\u001b[0m: 'NoneType' object has no attribute 'fetchall'",
      "\nDuring handling of the above exception, another exception occurred:\n",
      "\u001b[1;31mResourceClosedError\u001b[0m                       Traceback (most recent call last)",
      "\u001b[1;32m<ipython-input-31-166977812758>\u001b[0m in \u001b[0;36m<module>\u001b[1;34m\u001b[0m\n\u001b[0;32m      1\u001b[0m \u001b[1;31m# Create a table view of all bankruptcy data from 2009 to 2011\u001b[0m\u001b[1;33m\u001b[0m\u001b[1;33m\u001b[0m\u001b[1;33m\u001b[0m\u001b[0m\n\u001b[0;32m      2\u001b[0m \u001b[1;33m\u001b[0m\u001b[0m\n\u001b[1;32m----> 3\u001b[1;33m \u001b[0mpd\u001b[0m\u001b[1;33m.\u001b[0m\u001b[0mread_sql_query\u001b[0m\u001b[1;33m(\u001b[0m\u001b[1;34m'create or replace view bankruptcy_data as select * from combined_data'\u001b[0m\u001b[1;33m,\u001b[0m \u001b[0mcon\u001b[0m \u001b[1;33m=\u001b[0m \u001b[0mengine\u001b[0m\u001b[1;33m)\u001b[0m\u001b[1;33m\u001b[0m\u001b[1;33m\u001b[0m\u001b[0m\n\u001b[0m",
      "\u001b[1;32m~\\.conda\\envs\\PythonData\\lib\\site-packages\\pandas\\io\\sql.py\u001b[0m in \u001b[0;36mread_sql_query\u001b[1;34m(sql, con, index_col, coerce_float, params, parse_dates, chunksize)\u001b[0m\n\u001b[0;32m    312\u001b[0m     return pandas_sql.read_query(\n\u001b[0;32m    313\u001b[0m         \u001b[0msql\u001b[0m\u001b[1;33m,\u001b[0m \u001b[0mindex_col\u001b[0m\u001b[1;33m=\u001b[0m\u001b[0mindex_col\u001b[0m\u001b[1;33m,\u001b[0m \u001b[0mparams\u001b[0m\u001b[1;33m=\u001b[0m\u001b[0mparams\u001b[0m\u001b[1;33m,\u001b[0m \u001b[0mcoerce_float\u001b[0m\u001b[1;33m=\u001b[0m\u001b[0mcoerce_float\u001b[0m\u001b[1;33m,\u001b[0m\u001b[1;33m\u001b[0m\u001b[1;33m\u001b[0m\u001b[0m\n\u001b[1;32m--> 314\u001b[1;33m         parse_dates=parse_dates, chunksize=chunksize)\n\u001b[0m\u001b[0;32m    315\u001b[0m \u001b[1;33m\u001b[0m\u001b[0m\n\u001b[0;32m    316\u001b[0m \u001b[1;33m\u001b[0m\u001b[0m\n",
      "\u001b[1;32m~\\.conda\\envs\\PythonData\\lib\\site-packages\\pandas\\io\\sql.py\u001b[0m in \u001b[0;36mread_query\u001b[1;34m(self, sql, index_col, coerce_float, parse_dates, params, chunksize)\u001b[0m\n\u001b[0;32m   1106\u001b[0m                                         parse_dates=parse_dates)\n\u001b[0;32m   1107\u001b[0m         \u001b[1;32melse\u001b[0m\u001b[1;33m:\u001b[0m\u001b[1;33m\u001b[0m\u001b[1;33m\u001b[0m\u001b[0m\n\u001b[1;32m-> 1108\u001b[1;33m             \u001b[0mdata\u001b[0m \u001b[1;33m=\u001b[0m \u001b[0mresult\u001b[0m\u001b[1;33m.\u001b[0m\u001b[0mfetchall\u001b[0m\u001b[1;33m(\u001b[0m\u001b[1;33m)\u001b[0m\u001b[1;33m\u001b[0m\u001b[1;33m\u001b[0m\u001b[0m\n\u001b[0m\u001b[0;32m   1109\u001b[0m             frame = _wrap_result(data, columns, index_col=index_col,\n\u001b[0;32m   1110\u001b[0m                                  \u001b[0mcoerce_float\u001b[0m\u001b[1;33m=\u001b[0m\u001b[0mcoerce_float\u001b[0m\u001b[1;33m,\u001b[0m\u001b[1;33m\u001b[0m\u001b[1;33m\u001b[0m\u001b[0m\n",
      "\u001b[1;32m~\\.conda\\envs\\PythonData\\lib\\site-packages\\sqlalchemy\\engine\\result.py\u001b[0m in \u001b[0;36mfetchall\u001b[1;34m(self)\u001b[0m\n\u001b[0;32m   1216\u001b[0m         \u001b[1;32mexcept\u001b[0m \u001b[0mBaseException\u001b[0m \u001b[1;32mas\u001b[0m \u001b[0me\u001b[0m\u001b[1;33m:\u001b[0m\u001b[1;33m\u001b[0m\u001b[1;33m\u001b[0m\u001b[0m\n\u001b[0;32m   1217\u001b[0m             self.connection._handle_dbapi_exception(\n\u001b[1;32m-> 1218\u001b[1;33m                 \u001b[0me\u001b[0m\u001b[1;33m,\u001b[0m \u001b[1;32mNone\u001b[0m\u001b[1;33m,\u001b[0m \u001b[1;32mNone\u001b[0m\u001b[1;33m,\u001b[0m \u001b[0mself\u001b[0m\u001b[1;33m.\u001b[0m\u001b[0mcursor\u001b[0m\u001b[1;33m,\u001b[0m \u001b[0mself\u001b[0m\u001b[1;33m.\u001b[0m\u001b[0mcontext\u001b[0m\u001b[1;33m\u001b[0m\u001b[1;33m\u001b[0m\u001b[0m\n\u001b[0m\u001b[0;32m   1219\u001b[0m             )\n\u001b[0;32m   1220\u001b[0m \u001b[1;33m\u001b[0m\u001b[0m\n",
      "\u001b[1;32m~\\.conda\\envs\\PythonData\\lib\\site-packages\\sqlalchemy\\engine\\base.py\u001b[0m in \u001b[0;36m_handle_dbapi_exception\u001b[1;34m(self, e, statement, parameters, cursor, context)\u001b[0m\n\u001b[0;32m   1466\u001b[0m                 \u001b[0mutil\u001b[0m\u001b[1;33m.\u001b[0m\u001b[0mraise_from_cause\u001b[0m\u001b[1;33m(\u001b[0m\u001b[0msqlalchemy_exception\u001b[0m\u001b[1;33m,\u001b[0m \u001b[0mexc_info\u001b[0m\u001b[1;33m)\u001b[0m\u001b[1;33m\u001b[0m\u001b[1;33m\u001b[0m\u001b[0m\n\u001b[0;32m   1467\u001b[0m             \u001b[1;32melse\u001b[0m\u001b[1;33m:\u001b[0m\u001b[1;33m\u001b[0m\u001b[1;33m\u001b[0m\u001b[0m\n\u001b[1;32m-> 1468\u001b[1;33m                 \u001b[0mutil\u001b[0m\u001b[1;33m.\u001b[0m\u001b[0mreraise\u001b[0m\u001b[1;33m(\u001b[0m\u001b[1;33m*\u001b[0m\u001b[0mexc_info\u001b[0m\u001b[1;33m)\u001b[0m\u001b[1;33m\u001b[0m\u001b[1;33m\u001b[0m\u001b[0m\n\u001b[0m\u001b[0;32m   1469\u001b[0m \u001b[1;33m\u001b[0m\u001b[0m\n\u001b[0;32m   1470\u001b[0m         \u001b[1;32mfinally\u001b[0m\u001b[1;33m:\u001b[0m\u001b[1;33m\u001b[0m\u001b[1;33m\u001b[0m\u001b[0m\n",
      "\u001b[1;32m~\\.conda\\envs\\PythonData\\lib\\site-packages\\sqlalchemy\\util\\compat.py\u001b[0m in \u001b[0;36mreraise\u001b[1;34m(tp, value, tb, cause)\u001b[0m\n\u001b[0;32m    152\u001b[0m         \u001b[1;32mif\u001b[0m \u001b[0mvalue\u001b[0m\u001b[1;33m.\u001b[0m\u001b[0m__traceback__\u001b[0m \u001b[1;32mis\u001b[0m \u001b[1;32mnot\u001b[0m \u001b[0mtb\u001b[0m\u001b[1;33m:\u001b[0m\u001b[1;33m\u001b[0m\u001b[1;33m\u001b[0m\u001b[0m\n\u001b[0;32m    153\u001b[0m             \u001b[1;32mraise\u001b[0m \u001b[0mvalue\u001b[0m\u001b[1;33m.\u001b[0m\u001b[0mwith_traceback\u001b[0m\u001b[1;33m(\u001b[0m\u001b[0mtb\u001b[0m\u001b[1;33m)\u001b[0m\u001b[1;33m\u001b[0m\u001b[1;33m\u001b[0m\u001b[0m\n\u001b[1;32m--> 154\u001b[1;33m         \u001b[1;32mraise\u001b[0m \u001b[0mvalue\u001b[0m\u001b[1;33m\u001b[0m\u001b[1;33m\u001b[0m\u001b[0m\n\u001b[0m\u001b[0;32m    155\u001b[0m \u001b[1;33m\u001b[0m\u001b[0m\n\u001b[0;32m    156\u001b[0m     \u001b[1;32mdef\u001b[0m \u001b[0mu\u001b[0m\u001b[1;33m(\u001b[0m\u001b[0ms\u001b[0m\u001b[1;33m)\u001b[0m\u001b[1;33m:\u001b[0m\u001b[1;33m\u001b[0m\u001b[1;33m\u001b[0m\u001b[0m\n",
      "\u001b[1;32m~\\.conda\\envs\\PythonData\\lib\\site-packages\\sqlalchemy\\engine\\result.py\u001b[0m in \u001b[0;36mfetchall\u001b[1;34m(self)\u001b[0m\n\u001b[0;32m   1211\u001b[0m \u001b[1;33m\u001b[0m\u001b[0m\n\u001b[0;32m   1212\u001b[0m         \u001b[1;32mtry\u001b[0m\u001b[1;33m:\u001b[0m\u001b[1;33m\u001b[0m\u001b[1;33m\u001b[0m\u001b[0m\n\u001b[1;32m-> 1213\u001b[1;33m             \u001b[0ml\u001b[0m \u001b[1;33m=\u001b[0m \u001b[0mself\u001b[0m\u001b[1;33m.\u001b[0m\u001b[0mprocess_rows\u001b[0m\u001b[1;33m(\u001b[0m\u001b[0mself\u001b[0m\u001b[1;33m.\u001b[0m\u001b[0m_fetchall_impl\u001b[0m\u001b[1;33m(\u001b[0m\u001b[1;33m)\u001b[0m\u001b[1;33m)\u001b[0m\u001b[1;33m\u001b[0m\u001b[1;33m\u001b[0m\u001b[0m\n\u001b[0m\u001b[0;32m   1214\u001b[0m             \u001b[0mself\u001b[0m\u001b[1;33m.\u001b[0m\u001b[0m_soft_close\u001b[0m\u001b[1;33m(\u001b[0m\u001b[1;33m)\u001b[0m\u001b[1;33m\u001b[0m\u001b[1;33m\u001b[0m\u001b[0m\n\u001b[0;32m   1215\u001b[0m             \u001b[1;32mreturn\u001b[0m \u001b[0ml\u001b[0m\u001b[1;33m\u001b[0m\u001b[1;33m\u001b[0m\u001b[0m\n",
      "\u001b[1;32m~\\.conda\\envs\\PythonData\\lib\\site-packages\\sqlalchemy\\engine\\result.py\u001b[0m in \u001b[0;36m_fetchall_impl\u001b[1;34m(self)\u001b[0m\n\u001b[0;32m   1163\u001b[0m             \u001b[1;32mreturn\u001b[0m \u001b[0mself\u001b[0m\u001b[1;33m.\u001b[0m\u001b[0mcursor\u001b[0m\u001b[1;33m.\u001b[0m\u001b[0mfetchall\u001b[0m\u001b[1;33m(\u001b[0m\u001b[1;33m)\u001b[0m\u001b[1;33m\u001b[0m\u001b[1;33m\u001b[0m\u001b[0m\n\u001b[0;32m   1164\u001b[0m         \u001b[1;32mexcept\u001b[0m \u001b[0mAttributeError\u001b[0m\u001b[1;33m:\u001b[0m\u001b[1;33m\u001b[0m\u001b[1;33m\u001b[0m\u001b[0m\n\u001b[1;32m-> 1165\u001b[1;33m             \u001b[1;32mreturn\u001b[0m \u001b[0mself\u001b[0m\u001b[1;33m.\u001b[0m\u001b[0m_non_result\u001b[0m\u001b[1;33m(\u001b[0m\u001b[1;33m[\u001b[0m\u001b[1;33m]\u001b[0m\u001b[1;33m)\u001b[0m\u001b[1;33m\u001b[0m\u001b[1;33m\u001b[0m\u001b[0m\n\u001b[0m\u001b[0;32m   1166\u001b[0m \u001b[1;33m\u001b[0m\u001b[0m\n\u001b[0;32m   1167\u001b[0m     \u001b[1;32mdef\u001b[0m \u001b[0m_non_result\u001b[0m\u001b[1;33m(\u001b[0m\u001b[0mself\u001b[0m\u001b[1;33m,\u001b[0m \u001b[0mdefault\u001b[0m\u001b[1;33m)\u001b[0m\u001b[1;33m:\u001b[0m\u001b[1;33m\u001b[0m\u001b[1;33m\u001b[0m\u001b[0m\n",
      "\u001b[1;32m~\\.conda\\envs\\PythonData\\lib\\site-packages\\sqlalchemy\\engine\\result.py\u001b[0m in \u001b[0;36m_non_result\u001b[1;34m(self, default)\u001b[0m\n\u001b[0;32m   1168\u001b[0m         \u001b[1;32mif\u001b[0m \u001b[0mself\u001b[0m\u001b[1;33m.\u001b[0m\u001b[0m_metadata\u001b[0m \u001b[1;32mis\u001b[0m \u001b[1;32mNone\u001b[0m\u001b[1;33m:\u001b[0m\u001b[1;33m\u001b[0m\u001b[1;33m\u001b[0m\u001b[0m\n\u001b[0;32m   1169\u001b[0m             raise exc.ResourceClosedError(\n\u001b[1;32m-> 1170\u001b[1;33m                 \u001b[1;34m\"This result object does not return rows. \"\u001b[0m\u001b[1;33m\u001b[0m\u001b[1;33m\u001b[0m\u001b[0m\n\u001b[0m\u001b[0;32m   1171\u001b[0m                 \u001b[1;34m\"It has been closed automatically.\"\u001b[0m\u001b[1;33m\u001b[0m\u001b[1;33m\u001b[0m\u001b[0m\n\u001b[0;32m   1172\u001b[0m             )\n",
      "\u001b[1;31mResourceClosedError\u001b[0m: This result object does not return rows. It has been closed automatically."
     ]
    }
   ],
   "source": [
    "# Create a table view of all bankruptcy data from 2009 to 2011\n",
    "\n",
    "pd.read_sql_query('create or replace view bankruptcy_data as select * from combined_data', con = engine)"
   ]
  },
  {
   "cell_type": "code",
   "execution_count": null,
   "metadata": {
    "ExecuteTime": {
     "end_time": "2019-09-03T23:39:55.654414Z",
     "start_time": "2019-09-03T23:39:54.137Z"
    }
   },
   "outputs": [],
   "source": [
    "# from pymongo import MongoClient\n",
    "# import sys\n",
    "# import json"
   ]
  },
  {
   "cell_type": "code",
   "execution_count": null,
   "metadata": {
    "ExecuteTime": {
     "end_time": "2019-09-03T23:39:55.656409Z",
     "start_time": "2019-09-03T23:39:54.140Z"
    }
   },
   "outputs": [],
   "source": [
    "# # https://realpython.com/introduction-to-mongodb-and-python/\n",
    "# # Establish a connection\n",
    "\n",
    "# client = MongoClient('mongodb://localhost:27017') ## Specify the port number\n",
    "\n",
    "# # Create or access a database. By default if the database is not found, it will created\n",
    "\n",
    "# db = client.bankruptcyDB\n"
   ]
  },
  {
   "cell_type": "code",
   "execution_count": null,
   "metadata": {
    "ExecuteTime": {
     "end_time": "2019-09-03T23:39:55.659401Z",
     "start_time": "2019-09-03T23:39:54.142Z"
    }
   },
   "outputs": [],
   "source": [
    "# # Transform all dataframe to dictionaries\n",
    "\n",
    "# data09_clean_dict = data09_clean.to_dict('series')\n",
    "# data10_clean_dict = data10_clean.to_dict('series')\n",
    "# data11_clean_dict = data11_clean.to_dict('series')\n",
    "\n",
    "\n",
    "# print(data10_clean_dict)\n"
   ]
  },
  {
   "cell_type": "code",
   "execution_count": null,
   "metadata": {
    "ExecuteTime": {
     "end_time": "2019-09-03T23:39:55.661396Z",
     "start_time": "2019-09-03T23:39:54.144Z"
    }
   },
   "outputs": [],
   "source": [
    "# combined_data_dict = combined_data.to_dict('series')"
   ]
  },
  {
   "cell_type": "code",
   "execution_count": null,
   "metadata": {
    "ExecuteTime": {
     "end_time": "2019-09-03T23:39:55.664389Z",
     "start_time": "2019-09-03T23:39:54.146Z"
    }
   },
   "outputs": [],
   "source": [
    "# combined_data_dict"
   ]
  },
  {
   "cell_type": "code",
   "execution_count": null,
   "metadata": {
    "ExecuteTime": {
     "end_time": "2019-09-03T23:39:55.666383Z",
     "start_time": "2019-09-03T23:39:54.148Z"
    }
   },
   "outputs": [],
   "source": [
    "# # Create a collection in db (aka Table)\n",
    "\n",
    "# data09_collection = db.data2009.find()\n",
    "# data10_collection = db.data2010.find()\n",
    "# data11_collection = db.data2011.find()"
   ]
  },
  {
   "cell_type": "code",
   "execution_count": null,
   "metadata": {
    "ExecuteTime": {
     "end_time": "2019-09-03T23:39:55.667380Z",
     "start_time": "2019-09-03T23:39:54.151Z"
    }
   },
   "outputs": [],
   "source": [
    "# result10 = data10_collection.insert_one(data10_clean_dict)\n"
   ]
  },
  {
   "cell_type": "code",
   "execution_count": null,
   "metadata": {
    "ExecuteTime": {
     "end_time": "2019-09-03T23:39:55.669374Z",
     "start_time": "2019-09-03T23:39:54.153Z"
    }
   },
   "outputs": [],
   "source": [
    "# def import_content(bankruptcy_data/combined_data.csv):\n",
    "#     mng_client = pymongo.MongoClient('localhost', 27017)\n",
    "#     mng_db = mng_client['PC_Bankruptcy09_11'] // Replace mongo db name\n",
    "#     collection_name = 'CombinedData' // Replace mongo db collection name\n",
    "#     db_cm = mng_db[CombinedData]\n",
    "#     cdir = os.path.dirname(__file__)\n",
    "#     file_res = os.path.join(cdir, filepath)\n",
    "\n",
    "#     data = pd.read_csv(file_res)\n",
    "#     data_json = json.loads(data.to_json(orient='records'))\n",
    "#     db_cm.remove()\n",
    "#     db_cm.insert(data_json)\n",
    "\n",
    "# if __name__ == \"__main__\":\n",
    "#   filepath = 'bankruptcy_data/combined_data.csv'  // pass csv file path\n",
    "#   import_content(filepath)"
   ]
  },
  {
   "cell_type": "markdown",
   "metadata": {},
   "source": [
    "# New heading"
   ]
  },
  {
   "cell_type": "markdown",
   "metadata": {},
   "source": [
    "# New heading"
   ]
  }
 ],
 "metadata": {
  "kernelspec": {
   "display_name": "Python 3",
   "language": "python",
   "name": "python3"
  },
  "language_info": {
   "codemirror_mode": {
    "name": "ipython",
    "version": 3
   },
   "file_extension": ".py",
   "mimetype": "text/x-python",
   "name": "python",
   "nbconvert_exporter": "python",
   "pygments_lexer": "ipython3",
   "version": "3.6.8"
  },
  "toc": {
   "base_numbering": 1,
   "nav_menu": {},
   "number_sections": true,
   "sideBar": true,
   "skip_h1_title": false,
   "title_cell": "Table of Contents",
   "title_sidebar": "Contents",
   "toc_cell": false,
   "toc_position": {},
   "toc_section_display": true,
   "toc_window_display": false
  }
 },
 "nbformat": 4,
 "nbformat_minor": 2
}
