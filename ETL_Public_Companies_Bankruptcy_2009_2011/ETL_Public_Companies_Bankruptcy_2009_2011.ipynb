{
 "cells": [
  {
   "cell_type": "markdown",
   "metadata": {
    "slideshow": {
     "slide_type": "slide"
    }
   },
   "source": [
    "# ETL | Public Companies Bankruptcy Cases Opened and Monitored \n"
   ]
  },
  {
   "cell_type": "markdown",
   "metadata": {
    "slideshow": {
     "slide_type": "slide"
    },
    "toc": true
   },
   "source": [
    "<h1>Table of Contents<span class=\"tocSkip\"></span></h1>\n",
    "<div class=\"toc\"><ul class=\"toc-item\"><li><span><a href=\"#ETL-|-Public-Companies-Bankruptcy-Cases-Opened-and-Monitored\" data-toc-modified-id=\"ETL-|-Public-Companies-Bankruptcy-Cases-Opened-and-Monitored-1\"><span class=\"toc-item-num\">1&nbsp;&nbsp;</span>ETL | Public Companies Bankruptcy Cases Opened and Monitored</a></span><ul class=\"toc-item\"><li><span><a href=\"#Data-Set-Source-2009---2011\" data-toc-modified-id=\"Data-Set-Source-2009---2011-1.1\"><span class=\"toc-item-num\">1.1&nbsp;&nbsp;</span>Data Set Source 2009 - 2011</a></span></li></ul></li><li><span><a href=\"#Dependecies\" data-toc-modified-id=\"Dependecies-2\"><span class=\"toc-item-num\">2&nbsp;&nbsp;</span>Dependecies</a></span></li><li><span><a href=\"#Extract\" data-toc-modified-id=\"Extract-3\"><span class=\"toc-item-num\">3&nbsp;&nbsp;</span>Extract</a></span><ul class=\"toc-item\"><li><span><a href=\"#Load-&amp;-Read-CSV\" data-toc-modified-id=\"Load-&amp;-Read-CSV-3.1\"><span class=\"toc-item-num\">3.1&nbsp;&nbsp;</span>Load &amp; Read CSV</a></span></li></ul></li><li><span><a href=\"#Transform\" data-toc-modified-id=\"Transform-4\"><span class=\"toc-item-num\">4&nbsp;&nbsp;</span>Transform</a></span><ul class=\"toc-item\"><li><span><a href=\"#Add,-drop,-rearrenge,-rename-columns\" data-toc-modified-id=\"Add,-drop,-rearrenge,-rename-columns-4.1\"><span class=\"toc-item-num\">4.1&nbsp;&nbsp;</span>Add, drop, rearrenge, rename columns</a></span></li><li><span><a href=\"#Data-info,-types\" data-toc-modified-id=\"Data-info,-types-4.2\"><span class=\"toc-item-num\">4.2&nbsp;&nbsp;</span>Data info, types</a></span></li><li><span><a href=\"#Identify-columns-with-bad-data\" data-toc-modified-id=\"Identify-columns-with-bad-data-4.3\"><span class=\"toc-item-num\">4.3&nbsp;&nbsp;</span>Identify columns with bad data</a></span></li><li><span><a href=\"#Drop-row-with-bad-data\" data-toc-modified-id=\"Drop-row-with-bad-data-4.4\"><span class=\"toc-item-num\">4.4&nbsp;&nbsp;</span>Drop row with bad data</a></span></li><li><span><a href=\"#Check-deletion\" data-toc-modified-id=\"Check-deletion-4.5\"><span class=\"toc-item-num\">4.5&nbsp;&nbsp;</span>Check deletion</a></span></li><li><span><a href=\"#String-replace,-set-column-type\" data-toc-modified-id=\"String-replace,-set-column-type-4.6\"><span class=\"toc-item-num\">4.6&nbsp;&nbsp;</span>String replace, set column type</a></span></li><li><span><a href=\"#Append-data\" data-toc-modified-id=\"Append-data-4.7\"><span class=\"toc-item-num\">4.7&nbsp;&nbsp;</span>Append data</a></span></li><li><span><a href=\"#Save-to-CSV-and-json\" data-toc-modified-id=\"Save-to-CSV-and-json-4.8\"><span class=\"toc-item-num\">4.8&nbsp;&nbsp;</span>Save to CSV and json</a></span></li></ul></li><li><span><a href=\"#Load\" data-toc-modified-id=\"Load-5\"><span class=\"toc-item-num\">5&nbsp;&nbsp;</span>Load</a></span><ul class=\"toc-item\"><li><span><a href=\"#Dependencies\" data-toc-modified-id=\"Dependencies-5.1\"><span class=\"toc-item-num\">5.1&nbsp;&nbsp;</span>Dependencies</a></span></li><li><span><a href=\"#Connect-to-postgresSQL-database\" data-toc-modified-id=\"Connect-to-postgresSQL-database-5.2\"><span class=\"toc-item-num\">5.2&nbsp;&nbsp;</span>Connect to postgresSQL database</a></span></li><li><span><a href=\"#Load-csv-to-database\" data-toc-modified-id=\"Load-csv-to-database-5.3\"><span class=\"toc-item-num\">5.3&nbsp;&nbsp;</span>Load csv to database</a></span></li><li><span><a href=\"#Query-Database-to-confirm-upload\" data-toc-modified-id=\"Query-Database-to-confirm-upload-5.4\"><span class=\"toc-item-num\">5.4&nbsp;&nbsp;</span>Query Database to confirm upload</a></span></li><li><span><a href=\"#Create-a-table-view\" data-toc-modified-id=\"Create-a-table-view-5.5\"><span class=\"toc-item-num\">5.5&nbsp;&nbsp;</span>Create a table view</a></span></li><li><span><a href=\"#Query-table-view\" data-toc-modified-id=\"Query-table-view-5.6\"><span class=\"toc-item-num\">5.6&nbsp;&nbsp;</span>Query table view</a></span></li></ul></li><li><span><a href=\"#Questions-??\" data-toc-modified-id=\"Questions-??-6\"><span class=\"toc-item-num\">6&nbsp;&nbsp;</span>Questions ??</a></span></li></ul></div>"
   ]
  },
  {
   "cell_type": "markdown",
   "metadata": {
    "slideshow": {
     "slide_type": "subslide"
    }
   },
   "source": [
    "##  Data Set Source 2009 - 2011\n",
    "\n",
    "https://catalog.data.gov/dataset/public-company-bankruptcy-cases-opened-and-monitored\n",
    "\n",
    "Data updated June 18, 2019\n"
   ]
  },
  {
   "cell_type": "markdown",
   "metadata": {
    "slideshow": {
     "slide_type": "slide"
    }
   },
   "source": [
    "# Dependecies"
   ]
  },
  {
   "cell_type": "code",
   "execution_count": 1,
   "metadata": {
    "ExecuteTime": {
     "end_time": "2019-09-07T04:49:24.398201Z",
     "start_time": "2019-09-07T04:49:23.702574Z"
    },
    "slideshow": {
     "slide_type": "subslide"
    }
   },
   "outputs": [],
   "source": [
    "import pandas as pd\n",
    "import numpy as np\n",
    "import matplotlib.pyplot as plt\n",
    "from sqlalchemy import create_engine"
   ]
  },
  {
   "cell_type": "markdown",
   "metadata": {
    "slideshow": {
     "slide_type": "slide"
    }
   },
   "source": [
    "# Extract\n",
    "\n",
    "## Load & Read CSV"
   ]
  },
  {
   "cell_type": "code",
   "execution_count": 2,
   "metadata": {
    "ExecuteTime": {
     "end_time": "2019-09-07T04:49:24.404715Z",
     "start_time": "2019-09-07T04:49:24.399749Z"
    },
    "slideshow": {
     "slide_type": "subslide"
    }
   },
   "outputs": [],
   "source": [
    "# Load CSV files\n",
    "\n",
    "data09 = \"../bankruptcy_data/public_company_bankruptcy_cases_2009.csv\"\n",
    "data10 = \"../bankruptcy_data/public_company_bankruptcy_cases_2010.csv\"\n",
    "data11 = \"../bankruptcy_data/public_company_bankruptcy_cases_2011.csv\""
   ]
  },
  {
   "cell_type": "code",
   "execution_count": 3,
   "metadata": {
    "ExecuteTime": {
     "end_time": "2019-09-07T04:49:24.430184Z",
     "start_time": "2019-09-07T04:49:24.407176Z"
    },
    "slideshow": {
     "slide_type": "subslide"
    }
   },
   "outputs": [],
   "source": [
    "# Read all data files and store into Pandas DataFrame\n",
    "\n",
    "data09_df = pd.read_csv(data09)\n",
    "data10_df = pd.read_csv(data10)\n",
    "data11_df = pd.read_csv(data11)\n"
   ]
  },
  {
   "cell_type": "markdown",
   "metadata": {
    "slideshow": {
     "slide_type": "slide"
    }
   },
   "source": [
    "# Transform "
   ]
  },
  {
   "cell_type": "markdown",
   "metadata": {
    "slideshow": {
     "slide_type": "slide"
    }
   },
   "source": [
    "## Add, drop, rearrenge, rename columns"
   ]
  },
  {
   "cell_type": "code",
   "execution_count": 4,
   "metadata": {
    "ExecuteTime": {
     "end_time": "2019-09-07T04:49:24.440132Z",
     "start_time": "2019-09-07T04:49:24.432155Z"
    },
    "slideshow": {
     "slide_type": "subslide"
    }
   },
   "outputs": [],
   "source": [
    "# Add fiscal year to each data frame\n",
    "\n",
    "data09_df['FISCAL_YEAR'] = 2009\n",
    "data10_df['FISCAL_YEAR'] = 2010\n",
    "data11_df['FISCAL_YEAR'] = 2011"
   ]
  },
  {
   "cell_type": "code",
   "execution_count": 5,
   "metadata": {
    "ExecuteTime": {
     "end_time": "2019-09-07T04:49:24.456090Z",
     "start_time": "2019-09-07T04:49:24.443126Z"
    },
    "slideshow": {
     "slide_type": "subslide"
    }
   },
   "outputs": [],
   "source": [
    "# Drop NAN values\n",
    "\n",
    "data09_df = data09_df.dropna()\n",
    "data10_df = data10_df.dropna()\n",
    "data11_df = data11_df.dropna()\n"
   ]
  },
  {
   "cell_type": "code",
   "execution_count": 6,
   "metadata": {
    "ExecuteTime": {
     "end_time": "2019-09-07T04:49:24.470053Z",
     "start_time": "2019-09-07T04:49:24.458085Z"
    },
    "slideshow": {
     "slide_type": "subslide"
    }
   },
   "outputs": [],
   "source": [
    "# Rearrenge columns of all data and reaname columns\n",
    "\n",
    "data09_df = data09_df[['FISCAL_YEAR','STATE', 'COMPANY NAME', 'ASSETS (MILLIONS)','LIABILITIES (MILLIONS)', 'DISTRICT']] \n",
    "data09_df = data09_df.rename(columns= {'COMPANY NAME': 'COMPANY', 'ASSETS (MILLIONS)': 'ASSETS_MILLIONS', 'LIABILITIES (MILLIONS)':'LIABILITIES_MILLIONS', 'DISTRICT': 'COURT_DISTRICT'})\n",
    "\n",
    "data10_df = data10_df[['FISCAL_YEAR','STATE', 'COMPANY NAME', 'ASSETS (MILLIONS)','LIABILITIES (MILLIONS)', 'DISTRICT']] \n",
    "data10_df = data10_df.rename(columns= {'COMPANY NAME': 'COMPANY', 'ASSETS (MILLIONS)': 'ASSETS_MILLIONS', 'LIABILITIES (MILLIONS)':'LIABILITIES_MILLIONS', 'DISTRICT': 'COURT_DISTRICT'})\n",
    "\n",
    "data11_df = data11_df[['FISCAL_YEAR','STATE', 'COMPANY NAME', 'ASSETS (MILLIONS)','LIABILITIES (MILLIONS)', 'DISTRICT']] \n",
    "data11_df = data11_df.rename(columns= {'COMPANY NAME': 'COMPANY', 'ASSETS (MILLIONS)': 'ASSETS_MILLIONS', 'LIABILITIES (MILLIONS)':'LIABILITIES_MILLIONS', 'DISTRICT': 'COURT_DISTRICT'})"
   ]
  },
  {
   "cell_type": "markdown",
   "metadata": {
    "slideshow": {
     "slide_type": "slide"
    }
   },
   "source": [
    "## Data info, types"
   ]
  },
  {
   "cell_type": "code",
   "execution_count": 7,
   "metadata": {
    "ExecuteTime": {
     "end_time": "2019-09-07T04:49:24.490996Z",
     "start_time": "2019-09-07T04:49:24.473046Z"
    },
    "slideshow": {
     "slide_type": "subslide"
    }
   },
   "outputs": [
    {
     "name": "stdout",
     "output_type": "stream",
     "text": [
      "<class 'pandas.core.frame.DataFrame'>\n",
      "Int64Index: 127 entries, 0 to 128\n",
      "Data columns (total 6 columns):\n",
      "FISCAL_YEAR             127 non-null int64\n",
      "STATE                   127 non-null object\n",
      "COMPANY                 127 non-null object\n",
      "ASSETS_MILLIONS         127 non-null float64\n",
      "LIABILITIES_MILLIONS    127 non-null float64\n",
      "COURT_DISTRICT          127 non-null object\n",
      "dtypes: float64(2), int64(1), object(3)\n",
      "memory usage: 6.9+ KB\n",
      "<class 'pandas.core.frame.DataFrame'>\n",
      "Int64Index: 63 entries, 1 to 63\n",
      "Data columns (total 6 columns):\n",
      "FISCAL_YEAR             63 non-null int64\n",
      "STATE                   63 non-null object\n",
      "COMPANY                 63 non-null object\n",
      "ASSETS_MILLIONS         63 non-null object\n",
      "LIABILITIES_MILLIONS    63 non-null object\n",
      "COURT_DISTRICT          63 non-null object\n",
      "dtypes: int64(1), object(5)\n",
      "memory usage: 3.4+ KB\n",
      "<class 'pandas.core.frame.DataFrame'>\n",
      "Int64Index: 62 entries, 0 to 61\n",
      "Data columns (total 6 columns):\n",
      "FISCAL_YEAR             62 non-null int64\n",
      "STATE                   62 non-null object\n",
      "COMPANY                 62 non-null object\n",
      "ASSETS_MILLIONS         62 non-null object\n",
      "LIABILITIES_MILLIONS    62 non-null object\n",
      "COURT_DISTRICT          62 non-null object\n",
      "dtypes: int64(1), object(5)\n",
      "memory usage: 3.4+ KB\n"
     ]
    }
   ],
   "source": [
    "data09_df.info()\n",
    "data10_df.info()\n",
    "data11_df.info()\n"
   ]
  },
  {
   "cell_type": "code",
   "execution_count": 8,
   "metadata": {
    "ExecuteTime": {
     "end_time": "2019-09-07T04:49:24.504961Z",
     "start_time": "2019-09-07T04:49:24.495984Z"
    },
    "slideshow": {
     "slide_type": "subslide"
    }
   },
   "outputs": [
    {
     "data": {
      "text/plain": [
       "FISCAL_YEAR              int64\n",
       "STATE                   object\n",
       "COMPANY                 object\n",
       "ASSETS_MILLIONS         object\n",
       "LIABILITIES_MILLIONS    object\n",
       "COURT_DISTRICT          object\n",
       "dtype: object"
      ]
     },
     "execution_count": 8,
     "metadata": {},
     "output_type": "execute_result"
    }
   ],
   "source": [
    "data10_df.dtypes\n",
    "\n"
   ]
  },
  {
   "cell_type": "markdown",
   "metadata": {
    "slideshow": {
     "slide_type": "slide"
    }
   },
   "source": [
    "## Identify columns with bad data"
   ]
  },
  {
   "cell_type": "code",
   "execution_count": 9,
   "metadata": {
    "ExecuteTime": {
     "end_time": "2019-09-07T04:49:24.522911Z",
     "start_time": "2019-09-07T04:49:24.507987Z"
    },
    "slideshow": {
     "slide_type": "subslide"
    }
   },
   "outputs": [
    {
     "data": {
      "text/html": [
       "<div>\n",
       "<style scoped>\n",
       "    .dataframe tbody tr th:only-of-type {\n",
       "        vertical-align: middle;\n",
       "    }\n",
       "\n",
       "    .dataframe tbody tr th {\n",
       "        vertical-align: top;\n",
       "    }\n",
       "\n",
       "    .dataframe thead th {\n",
       "        text-align: right;\n",
       "    }\n",
       "</style>\n",
       "<table border=\"1\" class=\"dataframe\">\n",
       "  <thead>\n",
       "    <tr style=\"text-align: right;\">\n",
       "      <th></th>\n",
       "      <th>FISCAL_YEAR</th>\n",
       "      <th>STATE</th>\n",
       "      <th>COMPANY</th>\n",
       "      <th>ASSETS_MILLIONS</th>\n",
       "      <th>LIABILITIES_MILLIONS</th>\n",
       "      <th>COURT_DISTRICT</th>\n",
       "    </tr>\n",
       "  </thead>\n",
       "  <tbody>\n",
       "    <tr>\n",
       "      <td>51</td>\n",
       "      <td>2010</td>\n",
       "      <td>NY</td>\n",
       "      <td>Spongetech Delivery Systems, Inc.</td>\n",
       "      <td>0.50</td>\n",
       "      <td>----</td>\n",
       "      <td>SD</td>\n",
       "    </tr>\n",
       "  </tbody>\n",
       "</table>\n",
       "</div>"
      ],
      "text/plain": [
       "    FISCAL_YEAR STATE                            COMPANY ASSETS_MILLIONS  \\\n",
       "51         2010    NY  Spongetech Delivery Systems, Inc.            0.50   \n",
       "\n",
       "                           LIABILITIES_MILLIONS COURT_DISTRICT  \n",
       "51                                         ----             SD  "
      ]
     },
     "execution_count": 9,
     "metadata": {},
     "output_type": "execute_result"
    }
   ],
   "source": [
    "data10_df[data10_df['COMPANY'] == 'Spongetech Delivery Systems, Inc.']\n",
    "\n",
    "# Kore Holdings, Inc.\n",
    "# Bridgetech Holdings International, Inc.\n",
    "# Java Detour, Inc.\n",
    "# Law Enforcement Associates Corporation\n",
    "# Sand Spring Capital\n"
   ]
  },
  {
   "cell_type": "code",
   "execution_count": 10,
   "metadata": {
    "ExecuteTime": {
     "end_time": "2019-09-07T04:49:24.534880Z",
     "start_time": "2019-09-07T04:49:24.524906Z"
    },
    "slideshow": {
     "slide_type": "subslide"
    }
   },
   "outputs": [
    {
     "data": {
      "text/html": [
       "<div>\n",
       "<style scoped>\n",
       "    .dataframe tbody tr th:only-of-type {\n",
       "        vertical-align: middle;\n",
       "    }\n",
       "\n",
       "    .dataframe tbody tr th {\n",
       "        vertical-align: top;\n",
       "    }\n",
       "\n",
       "    .dataframe thead th {\n",
       "        text-align: right;\n",
       "    }\n",
       "</style>\n",
       "<table border=\"1\" class=\"dataframe\">\n",
       "  <thead>\n",
       "    <tr style=\"text-align: right;\">\n",
       "      <th></th>\n",
       "      <th>FISCAL_YEAR</th>\n",
       "      <th>STATE</th>\n",
       "      <th>COMPANY</th>\n",
       "      <th>ASSETS_MILLIONS</th>\n",
       "      <th>LIABILITIES_MILLIONS</th>\n",
       "      <th>COURT_DISTRICT</th>\n",
       "    </tr>\n",
       "  </thead>\n",
       "  <tbody>\n",
       "    <tr>\n",
       "      <td>10</td>\n",
       "      <td>2011</td>\n",
       "      <td>CA</td>\n",
       "      <td>Bridgetech Holdings International, Inc.</td>\n",
       "      <td>--</td>\n",
       "      <td>7</td>\n",
       "      <td>SD</td>\n",
       "    </tr>\n",
       "  </tbody>\n",
       "</table>\n",
       "</div>"
      ],
      "text/plain": [
       "    FISCAL_YEAR STATE                                  COMPANY  \\\n",
       "10         2011    CA  Bridgetech Holdings International, Inc.   \n",
       "\n",
       "                           ASSETS_MILLIONS LIABILITIES_MILLIONS COURT_DISTRICT  \n",
       "10                                      --                    7             SD  "
      ]
     },
     "execution_count": 10,
     "metadata": {},
     "output_type": "execute_result"
    }
   ],
   "source": [
    "data11_df[data11_df['COMPANY'] == 'Bridgetech Holdings International, Inc.']"
   ]
  },
  {
   "cell_type": "markdown",
   "metadata": {
    "slideshow": {
     "slide_type": "slide"
    }
   },
   "source": [
    "## Drop row with bad data"
   ]
  },
  {
   "cell_type": "code",
   "execution_count": 11,
   "metadata": {
    "ExecuteTime": {
     "end_time": "2019-09-07T04:49:24.543887Z",
     "start_time": "2019-09-07T04:49:24.536874Z"
    },
    "slideshow": {
     "slide_type": "subslide"
    }
   },
   "outputs": [],
   "source": [
    "# Drop rows with bad data\n",
    "\n",
    "data10_df = data10_df.set_index('COMPANY')\n",
    "data10_df = data10_df.drop('Spongetech Delivery Systems, Inc.', axis = 0)\n",
    "data10_df = data10_df.drop('Kore Holdings, Inc.', axis = 0)\n",
    "data10_df = data10_df.drop('U.S. Dry Cleaning Services Corporation', axis = 0)\n",
    "\n",
    "data10_df= data10_df.reset_index()"
   ]
  },
  {
   "cell_type": "code",
   "execution_count": 12,
   "metadata": {
    "ExecuteTime": {
     "end_time": "2019-09-07T04:49:24.555851Z",
     "start_time": "2019-09-07T04:49:24.545851Z"
    },
    "slideshow": {
     "slide_type": "subslide"
    }
   },
   "outputs": [],
   "source": [
    "# Drop rows with bad data\n",
    "\n",
    "data11_df = data11_df.set_index('COMPANY')\n",
    "data11_df = data11_df.drop('Bridgetech Holdings International, Inc.', axis = 0)\n",
    "data11_df = data11_df.drop('Java Detour, Inc.', axis = 0)\n",
    "data11_df = data11_df.drop('Law Enforcement Associates Corporation', axis = 0)\n",
    "data11_df = data11_df.drop('Sand Spring Capital', axis = 0)\n",
    "\n",
    "data11_df= data11_df.reset_index()"
   ]
  },
  {
   "cell_type": "markdown",
   "metadata": {
    "slideshow": {
     "slide_type": "slide"
    }
   },
   "source": [
    "## Check deletion "
   ]
  },
  {
   "cell_type": "code",
   "execution_count": 13,
   "metadata": {
    "ExecuteTime": {
     "end_time": "2019-09-07T04:49:24.564819Z",
     "start_time": "2019-09-07T04:49:24.557842Z"
    },
    "slideshow": {
     "slide_type": "subslide"
    }
   },
   "outputs": [
    {
     "data": {
      "text/html": [
       "<div>\n",
       "<style scoped>\n",
       "    .dataframe tbody tr th:only-of-type {\n",
       "        vertical-align: middle;\n",
       "    }\n",
       "\n",
       "    .dataframe tbody tr th {\n",
       "        vertical-align: top;\n",
       "    }\n",
       "\n",
       "    .dataframe thead th {\n",
       "        text-align: right;\n",
       "    }\n",
       "</style>\n",
       "<table border=\"1\" class=\"dataframe\">\n",
       "  <thead>\n",
       "    <tr style=\"text-align: right;\">\n",
       "      <th></th>\n",
       "      <th>COMPANY</th>\n",
       "      <th>FISCAL_YEAR</th>\n",
       "      <th>STATE</th>\n",
       "      <th>ASSETS_MILLIONS</th>\n",
       "      <th>LIABILITIES_MILLIONS</th>\n",
       "      <th>COURT_DISTRICT</th>\n",
       "    </tr>\n",
       "  </thead>\n",
       "  <tbody>\n",
       "  </tbody>\n",
       "</table>\n",
       "</div>"
      ],
      "text/plain": [
       "Empty DataFrame\n",
       "Columns: [COMPANY, FISCAL_YEAR, STATE, ASSETS_MILLIONS, LIABILITIES_MILLIONS, COURT_DISTRICT]\n",
       "Index: []"
      ]
     },
     "execution_count": 13,
     "metadata": {},
     "output_type": "execute_result"
    }
   ],
   "source": [
    "data10_df[data10_df['COMPANY'] == 'Spongetech Delivery Systems, Inc.']"
   ]
  },
  {
   "cell_type": "code",
   "execution_count": 14,
   "metadata": {
    "ExecuteTime": {
     "end_time": "2019-09-07T04:49:24.573804Z",
     "start_time": "2019-09-07T04:49:24.565798Z"
    },
    "slideshow": {
     "slide_type": "subslide"
    }
   },
   "outputs": [
    {
     "data": {
      "text/html": [
       "<div>\n",
       "<style scoped>\n",
       "    .dataframe tbody tr th:only-of-type {\n",
       "        vertical-align: middle;\n",
       "    }\n",
       "\n",
       "    .dataframe tbody tr th {\n",
       "        vertical-align: top;\n",
       "    }\n",
       "\n",
       "    .dataframe thead th {\n",
       "        text-align: right;\n",
       "    }\n",
       "</style>\n",
       "<table border=\"1\" class=\"dataframe\">\n",
       "  <thead>\n",
       "    <tr style=\"text-align: right;\">\n",
       "      <th></th>\n",
       "      <th>COMPANY</th>\n",
       "      <th>FISCAL_YEAR</th>\n",
       "      <th>STATE</th>\n",
       "      <th>ASSETS_MILLIONS</th>\n",
       "      <th>LIABILITIES_MILLIONS</th>\n",
       "      <th>COURT_DISTRICT</th>\n",
       "    </tr>\n",
       "  </thead>\n",
       "  <tbody>\n",
       "  </tbody>\n",
       "</table>\n",
       "</div>"
      ],
      "text/plain": [
       "Empty DataFrame\n",
       "Columns: [COMPANY, FISCAL_YEAR, STATE, ASSETS_MILLIONS, LIABILITIES_MILLIONS, COURT_DISTRICT]\n",
       "Index: []"
      ]
     },
     "execution_count": 14,
     "metadata": {},
     "output_type": "execute_result"
    }
   ],
   "source": [
    "data11_df[data11_df['COMPANY'] == 'Bridgetech Holdings International, Inc.']"
   ]
  },
  {
   "cell_type": "markdown",
   "metadata": {
    "slideshow": {
     "slide_type": "slide"
    }
   },
   "source": [
    "## String replace, set column type"
   ]
  },
  {
   "cell_type": "code",
   "execution_count": 15,
   "metadata": {
    "ExecuteTime": {
     "end_time": "2019-09-07T04:49:24.582751Z",
     "start_time": "2019-09-07T04:49:24.575828Z"
    },
    "slideshow": {
     "slide_type": "subslide"
    }
   },
   "outputs": [],
   "source": [
    "data10_df['ASSETS_MILLIONS'] = data10_df['ASSETS_MILLIONS'].str.replace(\",\",\"\",regex = True).astype(float)\n",
    "data10_df['LIABILITIES_MILLIONS'] = data10_df['LIABILITIES_MILLIONS'].str.replace(\",\",\"\",regex = True).astype(float)\n"
   ]
  },
  {
   "cell_type": "code",
   "execution_count": 16,
   "metadata": {
    "ExecuteTime": {
     "end_time": "2019-09-07T04:49:24.602724Z",
     "start_time": "2019-09-07T04:49:24.584745Z"
    },
    "slideshow": {
     "slide_type": "slide"
    }
   },
   "outputs": [
    {
     "data": {
      "text/html": [
       "<div>\n",
       "<style scoped>\n",
       "    .dataframe tbody tr th:only-of-type {\n",
       "        vertical-align: middle;\n",
       "    }\n",
       "\n",
       "    .dataframe tbody tr th {\n",
       "        vertical-align: top;\n",
       "    }\n",
       "\n",
       "    .dataframe thead th {\n",
       "        text-align: right;\n",
       "    }\n",
       "</style>\n",
       "<table border=\"1\" class=\"dataframe\">\n",
       "  <thead>\n",
       "    <tr style=\"text-align: right;\">\n",
       "      <th></th>\n",
       "      <th>COMPANY</th>\n",
       "      <th>FISCAL_YEAR</th>\n",
       "      <th>STATE</th>\n",
       "      <th>ASSETS_MILLIONS</th>\n",
       "      <th>LIABILITIES_MILLIONS</th>\n",
       "      <th>COURT_DISTRICT</th>\n",
       "    </tr>\n",
       "  </thead>\n",
       "  <tbody>\n",
       "    <tr>\n",
       "      <td>0</td>\n",
       "      <td>Advanta Group</td>\n",
       "      <td>2010</td>\n",
       "      <td>DE</td>\n",
       "      <td>363.00</td>\n",
       "      <td>331.000</td>\n",
       "      <td>D</td>\n",
       "    </tr>\n",
       "    <tr>\n",
       "      <td>1</td>\n",
       "      <td>Amcore Financial, Inc.</td>\n",
       "      <td>2010</td>\n",
       "      <td>IL</td>\n",
       "      <td>7.00</td>\n",
       "      <td>75.000</td>\n",
       "      <td>ND</td>\n",
       "    </tr>\n",
       "    <tr>\n",
       "      <td>2</td>\n",
       "      <td>American Mortgage Acceptance Company</td>\n",
       "      <td>2010</td>\n",
       "      <td>NY</td>\n",
       "      <td>6.37</td>\n",
       "      <td>119.968</td>\n",
       "      <td>SD</td>\n",
       "    </tr>\n",
       "    <tr>\n",
       "      <td>3</td>\n",
       "      <td>Barzel Industries, Inc.</td>\n",
       "      <td>2010</td>\n",
       "      <td>DE</td>\n",
       "      <td>366.00</td>\n",
       "      <td>385.000</td>\n",
       "      <td>D</td>\n",
       "    </tr>\n",
       "    <tr>\n",
       "      <td>4</td>\n",
       "      <td>Baseline Oil &amp; Gas Corp.</td>\n",
       "      <td>2010</td>\n",
       "      <td>TX</td>\n",
       "      <td>80.00</td>\n",
       "      <td>139.000</td>\n",
       "      <td>SD</td>\n",
       "    </tr>\n",
       "    <tr>\n",
       "      <td>5</td>\n",
       "      <td>Blockbuster</td>\n",
       "      <td>2010</td>\n",
       "      <td>NY</td>\n",
       "      <td>1017.04</td>\n",
       "      <td>1464.940</td>\n",
       "      <td>SD</td>\n",
       "    </tr>\n",
       "    <tr>\n",
       "      <td>6</td>\n",
       "      <td>BSML, Inc.</td>\n",
       "      <td>2010</td>\n",
       "      <td>FL</td>\n",
       "      <td>6.94</td>\n",
       "      <td>9.970</td>\n",
       "      <td>SD</td>\n",
       "    </tr>\n",
       "    <tr>\n",
       "      <td>7</td>\n",
       "      <td>California Coastal Communities, Inc.</td>\n",
       "      <td>2010</td>\n",
       "      <td>CA</td>\n",
       "      <td>291.00</td>\n",
       "      <td>231.000</td>\n",
       "      <td>CD</td>\n",
       "    </tr>\n",
       "    <tr>\n",
       "      <td>8</td>\n",
       "      <td>Canopy Financial, Inc.</td>\n",
       "      <td>2010</td>\n",
       "      <td>IL</td>\n",
       "      <td>18.99</td>\n",
       "      <td>25.840</td>\n",
       "      <td>ND</td>\n",
       "    </tr>\n",
       "    <tr>\n",
       "      <td>9</td>\n",
       "      <td>Capital Growth Systems Inc.</td>\n",
       "      <td>2010</td>\n",
       "      <td>DE</td>\n",
       "      <td>26.97</td>\n",
       "      <td>17.146</td>\n",
       "      <td>D</td>\n",
       "    </tr>\n",
       "    <tr>\n",
       "      <td>10</td>\n",
       "      <td>Ceragenix Pharmaceuticals, Inc. et al.</td>\n",
       "      <td>2010</td>\n",
       "      <td>CO</td>\n",
       "      <td>1.50</td>\n",
       "      <td>12.960</td>\n",
       "      <td>D</td>\n",
       "    </tr>\n",
       "    <tr>\n",
       "      <td>11</td>\n",
       "      <td>Certified Diabetic Services, Inc.</td>\n",
       "      <td>2010</td>\n",
       "      <td>FL</td>\n",
       "      <td>0.40</td>\n",
       "      <td>0.810</td>\n",
       "      <td>MD</td>\n",
       "    </tr>\n",
       "    <tr>\n",
       "      <td>12</td>\n",
       "      <td>Chem Rx Corp.</td>\n",
       "      <td>2010</td>\n",
       "      <td>DE</td>\n",
       "      <td>169.69</td>\n",
       "      <td>178.280</td>\n",
       "      <td>D</td>\n",
       "    </tr>\n",
       "    <tr>\n",
       "      <td>13</td>\n",
       "      <td>CIB Maine Bancshares, Inc.</td>\n",
       "      <td>2010</td>\n",
       "      <td>WI</td>\n",
       "      <td>105.00</td>\n",
       "      <td>107.000</td>\n",
       "      <td>ED</td>\n",
       "    </tr>\n",
       "    <tr>\n",
       "      <td>14</td>\n",
       "      <td>Ciena Capitol LLC</td>\n",
       "      <td>2010</td>\n",
       "      <td>NY</td>\n",
       "      <td>521.00</td>\n",
       "      <td>584.000</td>\n",
       "      <td>SD</td>\n",
       "    </tr>\n",
       "    <tr>\n",
       "      <td>15</td>\n",
       "      <td>CIT Group Inc.</td>\n",
       "      <td>2010</td>\n",
       "      <td>NY</td>\n",
       "      <td>71019.20</td>\n",
       "      <td>64901.200</td>\n",
       "      <td>SD</td>\n",
       "    </tr>\n",
       "    <tr>\n",
       "      <td>16</td>\n",
       "      <td>Citadel Broadcastig Corp.</td>\n",
       "      <td>2010</td>\n",
       "      <td>NY</td>\n",
       "      <td>1400.58</td>\n",
       "      <td>2464.310</td>\n",
       "      <td>SD</td>\n",
       "    </tr>\n",
       "    <tr>\n",
       "      <td>17</td>\n",
       "      <td>Corus Bankshares, Inc.</td>\n",
       "      <td>2010</td>\n",
       "      <td>IL</td>\n",
       "      <td>314.15</td>\n",
       "      <td>532.940</td>\n",
       "      <td>ND</td>\n",
       "    </tr>\n",
       "    <tr>\n",
       "      <td>18</td>\n",
       "      <td>Cross Canyon Energy Corp.</td>\n",
       "      <td>2010</td>\n",
       "      <td>TX</td>\n",
       "      <td>53.35</td>\n",
       "      <td>41.810</td>\n",
       "      <td>SD</td>\n",
       "    </tr>\n",
       "    <tr>\n",
       "      <td>19</td>\n",
       "      <td>DiscoverNet, In.</td>\n",
       "      <td>2010</td>\n",
       "      <td>WI</td>\n",
       "      <td>701.00</td>\n",
       "      <td>403.000</td>\n",
       "      <td>WD</td>\n",
       "    </tr>\n",
       "    <tr>\n",
       "      <td>20</td>\n",
       "      <td>ECO2 Plastics, Inc.</td>\n",
       "      <td>2010</td>\n",
       "      <td>CA</td>\n",
       "      <td>1.70</td>\n",
       "      <td>6.390</td>\n",
       "      <td>ND</td>\n",
       "    </tr>\n",
       "    <tr>\n",
       "      <td>21</td>\n",
       "      <td>Edge Petroleum Corp.</td>\n",
       "      <td>2010</td>\n",
       "      <td>TX</td>\n",
       "      <td>264.00</td>\n",
       "      <td>234.000</td>\n",
       "      <td>SD</td>\n",
       "    </tr>\n",
       "    <tr>\n",
       "      <td>22</td>\n",
       "      <td>FairPoint Communications</td>\n",
       "      <td>2010</td>\n",
       "      <td>NY</td>\n",
       "      <td>3235.60</td>\n",
       "      <td>3234.470</td>\n",
       "      <td>SD</td>\n",
       "    </tr>\n",
       "    <tr>\n",
       "      <td>23</td>\n",
       "      <td>FirstFed Financial Corp.</td>\n",
       "      <td>2010</td>\n",
       "      <td>CA</td>\n",
       "      <td>4.47</td>\n",
       "      <td>159.650</td>\n",
       "      <td>CD</td>\n",
       "    </tr>\n",
       "    <tr>\n",
       "      <td>24</td>\n",
       "      <td>Firstfold Corp.</td>\n",
       "      <td>2010</td>\n",
       "      <td>NV</td>\n",
       "      <td>17.96</td>\n",
       "      <td>26.980</td>\n",
       "      <td>D</td>\n",
       "    </tr>\n",
       "    <tr>\n",
       "      <td>25</td>\n",
       "      <td>GigaBeam Corp.</td>\n",
       "      <td>2010</td>\n",
       "      <td>DE</td>\n",
       "      <td>3.18</td>\n",
       "      <td>9.396</td>\n",
       "      <td>D</td>\n",
       "    </tr>\n",
       "    <tr>\n",
       "      <td>26</td>\n",
       "      <td>GSC Group</td>\n",
       "      <td>2010</td>\n",
       "      <td>NY</td>\n",
       "      <td>119.79</td>\n",
       "      <td>313.560</td>\n",
       "      <td>SD</td>\n",
       "    </tr>\n",
       "    <tr>\n",
       "      <td>27</td>\n",
       "      <td>GSI Group</td>\n",
       "      <td>2010</td>\n",
       "      <td>DE</td>\n",
       "      <td>555.00</td>\n",
       "      <td>370.000</td>\n",
       "      <td>D</td>\n",
       "    </tr>\n",
       "    <tr>\n",
       "      <td>28</td>\n",
       "      <td>Guaranty Financial Group, Inc. et al.</td>\n",
       "      <td>2010</td>\n",
       "      <td>TX</td>\n",
       "      <td>15391.00</td>\n",
       "      <td>14390.000</td>\n",
       "      <td>ND</td>\n",
       "    </tr>\n",
       "    <tr>\n",
       "      <td>29</td>\n",
       "      <td>Imperial Capitol Bancorp Inc.</td>\n",
       "      <td>2010</td>\n",
       "      <td>CA</td>\n",
       "      <td>20.00</td>\n",
       "      <td>190.860</td>\n",
       "      <td>CA</td>\n",
       "    </tr>\n",
       "    <tr>\n",
       "      <td>30</td>\n",
       "      <td>Isco International, Inc.</td>\n",
       "      <td>2010</td>\n",
       "      <td>IL</td>\n",
       "      <td>5.28</td>\n",
       "      <td>25.460</td>\n",
       "      <td>ND</td>\n",
       "    </tr>\n",
       "    <tr>\n",
       "      <td>31</td>\n",
       "      <td>Jennifer Covertibles Inc.</td>\n",
       "      <td>2010</td>\n",
       "      <td>NY</td>\n",
       "      <td>25.97</td>\n",
       "      <td>46.353</td>\n",
       "      <td>SD</td>\n",
       "    </tr>\n",
       "    <tr>\n",
       "      <td>32</td>\n",
       "      <td>Jesup &amp; Lamont, Inc. , JWA</td>\n",
       "      <td>2010</td>\n",
       "      <td>NY</td>\n",
       "      <td>41.15</td>\n",
       "      <td>24.564</td>\n",
       "      <td>SD</td>\n",
       "    </tr>\n",
       "    <tr>\n",
       "      <td>33</td>\n",
       "      <td>Kolorfusion International Inc.</td>\n",
       "      <td>2010</td>\n",
       "      <td>CO</td>\n",
       "      <td>596.70</td>\n",
       "      <td>2.490</td>\n",
       "      <td>D</td>\n",
       "    </tr>\n",
       "    <tr>\n",
       "      <td>34</td>\n",
       "      <td>MDI, Inc.</td>\n",
       "      <td>2010</td>\n",
       "      <td>TX</td>\n",
       "      <td>5.18</td>\n",
       "      <td>2.990</td>\n",
       "      <td>WD</td>\n",
       "    </tr>\n",
       "    <tr>\n",
       "      <td>35</td>\n",
       "      <td>Medical Staffing Network</td>\n",
       "      <td>2010</td>\n",
       "      <td>FL</td>\n",
       "      <td>96.00</td>\n",
       "      <td>150.000</td>\n",
       "      <td>SD</td>\n",
       "    </tr>\n",
       "    <tr>\n",
       "      <td>36</td>\n",
       "      <td>Mesa Air Group, Inc.</td>\n",
       "      <td>2010</td>\n",
       "      <td>NY</td>\n",
       "      <td>975.49</td>\n",
       "      <td>868.590</td>\n",
       "      <td>SD</td>\n",
       "    </tr>\n",
       "    <tr>\n",
       "      <td>37</td>\n",
       "      <td>Neenah Enterprises, Inc.</td>\n",
       "      <td>2010</td>\n",
       "      <td>DE</td>\n",
       "      <td>286.61</td>\n",
       "      <td>449.100</td>\n",
       "      <td>D</td>\n",
       "    </tr>\n",
       "    <tr>\n",
       "      <td>38</td>\n",
       "      <td>NutraCea</td>\n",
       "      <td>2010</td>\n",
       "      <td>AZ</td>\n",
       "      <td>83.70</td>\n",
       "      <td>18.900</td>\n",
       "      <td>D</td>\n",
       "    </tr>\n",
       "    <tr>\n",
       "      <td>39</td>\n",
       "      <td>Orleans Homebuilders, Inc.</td>\n",
       "      <td>2010</td>\n",
       "      <td>DE</td>\n",
       "      <td>591.46</td>\n",
       "      <td>560.130</td>\n",
       "      <td>D</td>\n",
       "    </tr>\n",
       "    <tr>\n",
       "      <td>40</td>\n",
       "      <td>Otter Tail AG Enterprises LLC</td>\n",
       "      <td>2010</td>\n",
       "      <td>MN</td>\n",
       "      <td>67.00</td>\n",
       "      <td>86.000</td>\n",
       "      <td>D</td>\n",
       "    </tr>\n",
       "    <tr>\n",
       "      <td>41</td>\n",
       "      <td>PNG Ventures, Inc.</td>\n",
       "      <td>2010</td>\n",
       "      <td>DE</td>\n",
       "      <td>40.00</td>\n",
       "      <td>45.000</td>\n",
       "      <td>D</td>\n",
       "    </tr>\n",
       "    <tr>\n",
       "      <td>42</td>\n",
       "      <td>Protective Products of America, Inc.</td>\n",
       "      <td>2010</td>\n",
       "      <td>FL</td>\n",
       "      <td>27.00</td>\n",
       "      <td>29.000</td>\n",
       "      <td>SD</td>\n",
       "    </tr>\n",
       "    <tr>\n",
       "      <td>43</td>\n",
       "      <td>Provident Royalties, L.L.C et al.</td>\n",
       "      <td>2010</td>\n",
       "      <td>TX</td>\n",
       "      <td>443.31</td>\n",
       "      <td>466.050</td>\n",
       "      <td>ND</td>\n",
       "    </tr>\n",
       "    <tr>\n",
       "      <td>44</td>\n",
       "      <td>R &amp; G Financial Corporation</td>\n",
       "      <td>2010</td>\n",
       "      <td>PR</td>\n",
       "      <td>40.00</td>\n",
       "      <td>421.000</td>\n",
       "      <td>D</td>\n",
       "    </tr>\n",
       "    <tr>\n",
       "      <td>45</td>\n",
       "      <td>Rancher Energy Corp.</td>\n",
       "      <td>2010</td>\n",
       "      <td>CO</td>\n",
       "      <td>32.30</td>\n",
       "      <td>11.580</td>\n",
       "      <td>D</td>\n",
       "    </tr>\n",
       "    <tr>\n",
       "      <td>46</td>\n",
       "      <td>RCLC</td>\n",
       "      <td>2010</td>\n",
       "      <td>NJ</td>\n",
       "      <td>16.37</td>\n",
       "      <td>10.371</td>\n",
       "      <td>D</td>\n",
       "    </tr>\n",
       "    <tr>\n",
       "      <td>47</td>\n",
       "      <td>Regent Comms., Inc. , Riveria Holdings</td>\n",
       "      <td>2010</td>\n",
       "      <td>DE</td>\n",
       "      <td>166.51</td>\n",
       "      <td>68.490</td>\n",
       "      <td>D</td>\n",
       "    </tr>\n",
       "    <tr>\n",
       "      <td>48</td>\n",
       "      <td>South Texas Oil Company</td>\n",
       "      <td>2010</td>\n",
       "      <td>TX</td>\n",
       "      <td>49.07</td>\n",
       "      <td>27.900</td>\n",
       "      <td>WD</td>\n",
       "    </tr>\n",
       "    <tr>\n",
       "      <td>49</td>\n",
       "      <td>Stamford Industrial Group</td>\n",
       "      <td>2010</td>\n",
       "      <td>OH</td>\n",
       "      <td>62.20</td>\n",
       "      <td>14.310</td>\n",
       "      <td>ND</td>\n",
       "    </tr>\n",
       "    <tr>\n",
       "      <td>50</td>\n",
       "      <td>The Penn Traffic Company</td>\n",
       "      <td>2010</td>\n",
       "      <td>DE</td>\n",
       "      <td>150.38</td>\n",
       "      <td>136.870</td>\n",
       "      <td>D</td>\n",
       "    </tr>\n",
       "    <tr>\n",
       "      <td>51</td>\n",
       "      <td>TLC Vision Corp.</td>\n",
       "      <td>2010</td>\n",
       "      <td>DE</td>\n",
       "      <td>130.07</td>\n",
       "      <td>166.850</td>\n",
       "      <td>D</td>\n",
       "    </tr>\n",
       "    <tr>\n",
       "      <td>52</td>\n",
       "      <td>Topspin Medical, Inc.</td>\n",
       "      <td>2010</td>\n",
       "      <td>DE</td>\n",
       "      <td>0.36</td>\n",
       "      <td>0.540</td>\n",
       "      <td>D</td>\n",
       "    </tr>\n",
       "    <tr>\n",
       "      <td>53</td>\n",
       "      <td>Trico Marine Services, Triple Crown Media</td>\n",
       "      <td>2010</td>\n",
       "      <td>NY</td>\n",
       "      <td>535.20</td>\n",
       "      <td>472.700</td>\n",
       "      <td>SD</td>\n",
       "    </tr>\n",
       "    <tr>\n",
       "      <td>54</td>\n",
       "      <td>U.S. Concrete, Inc.</td>\n",
       "      <td>2010</td>\n",
       "      <td>DE</td>\n",
       "      <td>389.16</td>\n",
       "      <td>399.350</td>\n",
       "      <td>D</td>\n",
       "    </tr>\n",
       "    <tr>\n",
       "      <td>55</td>\n",
       "      <td>Velocity Express Corp.</td>\n",
       "      <td>2010</td>\n",
       "      <td>DE</td>\n",
       "      <td>94.00</td>\n",
       "      <td>121.000</td>\n",
       "      <td>D</td>\n",
       "    </tr>\n",
       "    <tr>\n",
       "      <td>56</td>\n",
       "      <td>Vermillioin Inc.</td>\n",
       "      <td>2010</td>\n",
       "      <td>DE</td>\n",
       "      <td>7.15</td>\n",
       "      <td>32.015</td>\n",
       "      <td>D</td>\n",
       "    </tr>\n",
       "    <tr>\n",
       "      <td>57</td>\n",
       "      <td>Vion Pharmaceuticals, Inc.</td>\n",
       "      <td>2010</td>\n",
       "      <td>DE</td>\n",
       "      <td>3030.85</td>\n",
       "      <td>2366.240</td>\n",
       "      <td>D</td>\n",
       "    </tr>\n",
       "    <tr>\n",
       "      <td>58</td>\n",
       "      <td>Visteon Corp.</td>\n",
       "      <td>2010</td>\n",
       "      <td>DE</td>\n",
       "      <td>4577.03</td>\n",
       "      <td>5324.030</td>\n",
       "      <td>D</td>\n",
       "    </tr>\n",
       "    <tr>\n",
       "      <td>59</td>\n",
       "      <td>Xerium Technologies, Inc.</td>\n",
       "      <td>2010</td>\n",
       "      <td>DE</td>\n",
       "      <td>694.00</td>\n",
       "      <td>813.000</td>\n",
       "      <td>D</td>\n",
       "    </tr>\n",
       "  </tbody>\n",
       "</table>\n",
       "</div>"
      ],
      "text/plain": [
       "                                      COMPANY  FISCAL_YEAR STATE  \\\n",
       "0                               Advanta Group         2010    DE   \n",
       "1                      Amcore Financial, Inc.         2010    IL   \n",
       "2        American Mortgage Acceptance Company         2010    NY   \n",
       "3                     Barzel Industries, Inc.         2010    DE   \n",
       "4                    Baseline Oil & Gas Corp.         2010    TX   \n",
       "5                                 Blockbuster         2010    NY   \n",
       "6                                  BSML, Inc.         2010    FL   \n",
       "7        California Coastal Communities, Inc.         2010    CA   \n",
       "8                      Canopy Financial, Inc.         2010    IL   \n",
       "9                 Capital Growth Systems Inc.         2010    DE   \n",
       "10     Ceragenix Pharmaceuticals, Inc. et al.         2010    CO   \n",
       "11          Certified Diabetic Services, Inc.         2010    FL   \n",
       "12                              Chem Rx Corp.         2010    DE   \n",
       "13                 CIB Maine Bancshares, Inc.         2010    WI   \n",
       "14                          Ciena Capitol LLC         2010    NY   \n",
       "15                             CIT Group Inc.         2010    NY   \n",
       "16                  Citadel Broadcastig Corp.         2010    NY   \n",
       "17                     Corus Bankshares, Inc.         2010    IL   \n",
       "18                  Cross Canyon Energy Corp.         2010    TX   \n",
       "19                           DiscoverNet, In.         2010    WI   \n",
       "20                        ECO2 Plastics, Inc.         2010    CA   \n",
       "21                       Edge Petroleum Corp.         2010    TX   \n",
       "22                   FairPoint Communications         2010    NY   \n",
       "23                   FirstFed Financial Corp.         2010    CA   \n",
       "24                            Firstfold Corp.         2010    NV   \n",
       "25                             GigaBeam Corp.         2010    DE   \n",
       "26                                  GSC Group         2010    NY   \n",
       "27                                  GSI Group         2010    DE   \n",
       "28      Guaranty Financial Group, Inc. et al.         2010    TX   \n",
       "29              Imperial Capitol Bancorp Inc.         2010    CA   \n",
       "30                   Isco International, Inc.         2010    IL   \n",
       "31                  Jennifer Covertibles Inc.         2010    NY   \n",
       "32                 Jesup & Lamont, Inc. , JWA         2010    NY   \n",
       "33             Kolorfusion International Inc.         2010    CO   \n",
       "34                                  MDI, Inc.         2010    TX   \n",
       "35                   Medical Staffing Network         2010    FL   \n",
       "36                       Mesa Air Group, Inc.         2010    NY   \n",
       "37                   Neenah Enterprises, Inc.         2010    DE   \n",
       "38                                   NutraCea         2010    AZ   \n",
       "39                 Orleans Homebuilders, Inc.         2010    DE   \n",
       "40              Otter Tail AG Enterprises LLC         2010    MN   \n",
       "41                         PNG Ventures, Inc.         2010    DE   \n",
       "42       Protective Products of America, Inc.         2010    FL   \n",
       "43          Provident Royalties, L.L.C et al.         2010    TX   \n",
       "44                R & G Financial Corporation         2010    PR   \n",
       "45                       Rancher Energy Corp.         2010    CO   \n",
       "46                                       RCLC         2010    NJ   \n",
       "47     Regent Comms., Inc. , Riveria Holdings         2010    DE   \n",
       "48                    South Texas Oil Company         2010    TX   \n",
       "49                  Stamford Industrial Group         2010    OH   \n",
       "50                   The Penn Traffic Company         2010    DE   \n",
       "51                           TLC Vision Corp.         2010    DE   \n",
       "52                      Topspin Medical, Inc.         2010    DE   \n",
       "53  Trico Marine Services, Triple Crown Media         2010    NY   \n",
       "54                        U.S. Concrete, Inc.         2010    DE   \n",
       "55                     Velocity Express Corp.         2010    DE   \n",
       "56                           Vermillioin Inc.         2010    DE   \n",
       "57                 Vion Pharmaceuticals, Inc.         2010    DE   \n",
       "58                              Visteon Corp.         2010    DE   \n",
       "59                  Xerium Technologies, Inc.         2010    DE   \n",
       "\n",
       "    ASSETS_MILLIONS  LIABILITIES_MILLIONS COURT_DISTRICT  \n",
       "0            363.00               331.000              D  \n",
       "1              7.00                75.000             ND  \n",
       "2              6.37               119.968             SD  \n",
       "3            366.00               385.000              D  \n",
       "4             80.00               139.000             SD  \n",
       "5           1017.04              1464.940             SD  \n",
       "6              6.94                 9.970             SD  \n",
       "7            291.00               231.000             CD  \n",
       "8             18.99                25.840             ND  \n",
       "9             26.97                17.146              D  \n",
       "10             1.50                12.960              D  \n",
       "11             0.40                 0.810             MD  \n",
       "12           169.69               178.280              D  \n",
       "13           105.00               107.000             ED  \n",
       "14           521.00               584.000             SD  \n",
       "15         71019.20             64901.200             SD  \n",
       "16          1400.58              2464.310             SD  \n",
       "17           314.15               532.940             ND  \n",
       "18            53.35                41.810             SD  \n",
       "19           701.00               403.000             WD  \n",
       "20             1.70                 6.390             ND  \n",
       "21           264.00               234.000             SD  \n",
       "22          3235.60              3234.470             SD  \n",
       "23             4.47               159.650             CD  \n",
       "24            17.96                26.980              D  \n",
       "25             3.18                 9.396              D  \n",
       "26           119.79               313.560             SD  \n",
       "27           555.00               370.000              D  \n",
       "28         15391.00             14390.000             ND  \n",
       "29            20.00               190.860             CA  \n",
       "30             5.28                25.460             ND  \n",
       "31            25.97                46.353             SD  \n",
       "32            41.15                24.564             SD  \n",
       "33           596.70                 2.490              D  \n",
       "34             5.18                 2.990             WD  \n",
       "35            96.00               150.000             SD  \n",
       "36           975.49               868.590             SD  \n",
       "37           286.61               449.100              D  \n",
       "38            83.70                18.900              D  \n",
       "39           591.46               560.130              D  \n",
       "40            67.00                86.000              D  \n",
       "41            40.00                45.000              D  \n",
       "42            27.00                29.000             SD  \n",
       "43           443.31               466.050             ND  \n",
       "44            40.00               421.000              D  \n",
       "45            32.30                11.580              D  \n",
       "46            16.37                10.371              D  \n",
       "47           166.51                68.490              D  \n",
       "48            49.07                27.900             WD  \n",
       "49            62.20                14.310             ND  \n",
       "50           150.38               136.870              D  \n",
       "51           130.07               166.850              D  \n",
       "52             0.36                 0.540              D  \n",
       "53           535.20               472.700             SD  \n",
       "54           389.16               399.350              D  \n",
       "55            94.00               121.000              D  \n",
       "56             7.15                32.015              D  \n",
       "57          3030.85              2366.240              D  \n",
       "58          4577.03              5324.030              D  \n",
       "59           694.00               813.000              D  "
      ]
     },
     "execution_count": 16,
     "metadata": {},
     "output_type": "execute_result"
    }
   ],
   "source": [
    "data10_df.dtypes\n",
    "data10_df.head(10000)"
   ]
  },
  {
   "cell_type": "code",
   "execution_count": 17,
   "metadata": {
    "ExecuteTime": {
     "end_time": "2019-09-07T04:49:24.611674Z",
     "start_time": "2019-09-07T04:49:24.604694Z"
    },
    "slideshow": {
     "slide_type": "subslide"
    }
   },
   "outputs": [],
   "source": [
    "data11_df['ASSETS_MILLIONS'] = data11_df['ASSETS_MILLIONS'].str.replace(\",\",\"\",regex = True).astype(float)\n",
    "data11_df['LIABILITIES_MILLIONS'] = data11_df['LIABILITIES_MILLIONS'].str.replace(\",\",\"\",regex = True).astype(float)"
   ]
  },
  {
   "cell_type": "markdown",
   "metadata": {
    "slideshow": {
     "slide_type": "slide"
    }
   },
   "source": [
    "## Append data "
   ]
  },
  {
   "cell_type": "code",
   "execution_count": 18,
   "metadata": {
    "ExecuteTime": {
     "end_time": "2019-09-07T04:49:24.634651Z",
     "start_time": "2019-09-07T04:49:24.614669Z"
    },
    "scrolled": true,
    "slideshow": {
     "slide_type": "subslide"
    }
   },
   "outputs": [
    {
     "data": {
      "text/plain": [
       "FISCAL_YEAR               int64\n",
       "STATE                    object\n",
       "COMPANY                  object\n",
       "ASSETS_MILLIONS         float64\n",
       "LIABILITIES_MILLIONS    float64\n",
       "COURT_DISTRICT           object\n",
       "dtype: object"
      ]
     },
     "execution_count": 18,
     "metadata": {},
     "output_type": "execute_result"
    }
   ],
   "source": [
    "# Append data for all three years\n",
    "appen1 =  data09_df.append(data10_df, ignore_index = True, sort = \"false\")\n",
    "appen2 =  appen1.append(data11_df, ignore_index = True, sort = \"false\")\n",
    "\n",
    "# Rearrenge columns of all data and reaname columns\n",
    "\n",
    "appen2 = appen2[['FISCAL_YEAR','STATE', 'COMPANY', 'ASSETS_MILLIONS','LIABILITIES_MILLIONS', 'COURT_DISTRICT']] \n",
    "\n",
    "appen2.dtypes\n"
   ]
  },
  {
   "cell_type": "markdown",
   "metadata": {
    "slideshow": {
     "slide_type": "slide"
    }
   },
   "source": [
    "## Save to CSV and json"
   ]
  },
  {
   "cell_type": "code",
   "execution_count": 20,
   "metadata": {
    "ExecuteTime": {
     "end_time": "2019-09-07T04:50:57.739672Z",
     "start_time": "2019-09-07T04:50:57.710203Z"
    },
    "slideshow": {
     "slide_type": "subslide"
    }
   },
   "outputs": [],
   "source": [
    "data09_clean = data09_df\n",
    "data10_clean = data10_df\n",
    "data11_clean = data11_df\n",
    "\n",
    "combined_data = appen2\n",
    "\n",
    "data09_clean.to_csv(\"../bankruptcy_data/data09_clean.csv\", index=False, encoding='utf8')\n",
    "data10_clean.to_csv(\"../bankruptcy_data/data10_clean.csv\", index=False, encoding='utf8')\n",
    "data11_clean.to_csv(\"../bankruptcy_data/data11_clean.csv\", index=False, encoding='utf8')\n",
    "combined_data.to_csv(\"../bankruptcy_data/combined_data.csv\", index=False, encoding='utf8')\n",
    "\n",
    "data09_clean.to_json(\"../bankruptcy_data/data09_clean.json\", orient='columns')\n",
    "data10_clean.to_json(\"../bankruptcy_data/data10_clean.json\", orient='columns')\n",
    "data11_clean.to_json(\"../bankruptcy_data/data11_clean.json\", orient='columns')\n",
    "combined_data.to_json(\"../bankruptcy_data/combined_data.json\", orient='columns')"
   ]
  },
  {
   "cell_type": "markdown",
   "metadata": {
    "slideshow": {
     "slide_type": "slide"
    }
   },
   "source": [
    "# Load"
   ]
  },
  {
   "cell_type": "markdown",
   "metadata": {
    "slideshow": {
     "slide_type": "slide"
    }
   },
   "source": [
    "## Dependencies"
   ]
  },
  {
   "cell_type": "code",
   "execution_count": null,
   "metadata": {
    "ExecuteTime": {
     "end_time": "2019-09-07T04:49:24.741361Z",
     "start_time": "2019-09-07T04:49:23.756Z"
    },
    "slideshow": {
     "slide_type": "subslide"
    }
   },
   "outputs": [],
   "source": [
    "from sqlalchemy import create_engine\n",
    "import secret #file with database password"
   ]
  },
  {
   "cell_type": "markdown",
   "metadata": {
    "slideshow": {
     "slide_type": "slide"
    }
   },
   "source": [
    "## Connect to postgresSQL database"
   ]
  },
  {
   "cell_type": "code",
   "execution_count": null,
   "metadata": {
    "ExecuteTime": {
     "end_time": "2019-09-07T04:49:24.742324Z",
     "start_time": "2019-09-07T04:49:23.760Z"
    },
    "slideshow": {
     "slide_type": "subslide"
    }
   },
   "outputs": [],
   "source": [
    "# connect to local database \n",
    "engine = create_engine(f\"postgresql://{secret.user_pass}@localhost:5432/bankruptcyDB\")\n"
   ]
  },
  {
   "cell_type": "code",
   "execution_count": null,
   "metadata": {
    "ExecuteTime": {
     "end_time": "2019-09-07T04:49:24.742324Z",
     "start_time": "2019-09-07T04:49:23.762Z"
    },
    "slideshow": {
     "slide_type": "subslide"
    }
   },
   "outputs": [],
   "source": [
    "engine.table_names()"
   ]
  },
  {
   "cell_type": "markdown",
   "metadata": {
    "slideshow": {
     "slide_type": "slide"
    }
   },
   "source": [
    "## Load csv to database"
   ]
  },
  {
   "cell_type": "code",
   "execution_count": null,
   "metadata": {
    "ExecuteTime": {
     "end_time": "2019-09-07T04:49:24.743363Z",
     "start_time": "2019-09-07T04:49:23.765Z"
    },
    "slideshow": {
     "slide_type": "subslide"
    }
   },
   "outputs": [],
   "source": [
    "#  Use pandas to load csv converted DataFrame into database\n",
    "data09_clean.to_sql(name='data2009', con=engine, if_exists='append', index=False)\n",
    "data10_clean.to_sql(name='data2010', con=engine, if_exists='append', index=False)\n",
    "data11_clean.to_sql(name='data2011', con=engine, if_exists='append', index=False)\n",
    "combined_data.to_sql(name='combined_data', con=engine, if_exists='append', index=False)"
   ]
  },
  {
   "cell_type": "markdown",
   "metadata": {
    "slideshow": {
     "slide_type": "slide"
    }
   },
   "source": [
    "## Query Database to confirm upload"
   ]
  },
  {
   "cell_type": "code",
   "execution_count": null,
   "metadata": {
    "ExecuteTime": {
     "end_time": "2019-09-07T04:49:24.744320Z",
     "start_time": "2019-09-07T04:49:23.768Z"
    },
    "slideshow": {
     "slide_type": "subslide"
    }
   },
   "outputs": [],
   "source": [
    "# Confirm data has been added by querying the tables\n",
    "\n",
    "pd.read_sql_query('select * from combined_data', con=engine).head()\n"
   ]
  },
  {
   "cell_type": "code",
   "execution_count": null,
   "metadata": {
    "ExecuteTime": {
     "end_time": "2019-09-07T04:49:24.746315Z",
     "start_time": "2019-09-07T04:49:23.770Z"
    },
    "slideshow": {
     "slide_type": "subslide"
    }
   },
   "outputs": [],
   "source": [
    "pd.read_sql_query('select * from data2009', con=engine).head()"
   ]
  },
  {
   "cell_type": "code",
   "execution_count": null,
   "metadata": {
    "ExecuteTime": {
     "end_time": "2019-09-07T04:49:24.747311Z",
     "start_time": "2019-09-07T04:49:23.773Z"
    },
    "slideshow": {
     "slide_type": "subslide"
    }
   },
   "outputs": [],
   "source": [
    "pd.read_sql_query('select * from data2010', con=engine).head()"
   ]
  },
  {
   "cell_type": "code",
   "execution_count": null,
   "metadata": {
    "ExecuteTime": {
     "end_time": "2019-09-07T04:49:24.748307Z",
     "start_time": "2019-09-07T04:49:23.776Z"
    },
    "slideshow": {
     "slide_type": "subslide"
    }
   },
   "outputs": [],
   "source": [
    "pd.read_sql_query('select * from data2011', con=engine).head()"
   ]
  },
  {
   "cell_type": "markdown",
   "metadata": {
    "slideshow": {
     "slide_type": "slide"
    }
   },
   "source": [
    "## Create a table view "
   ]
  },
  {
   "cell_type": "code",
   "execution_count": null,
   "metadata": {
    "ExecuteTime": {
     "end_time": "2019-09-07T04:49:24.750303Z",
     "start_time": "2019-09-07T04:49:23.779Z"
    },
    "slideshow": {
     "slide_type": "subslide"
    }
   },
   "outputs": [],
   "source": [
    "# Create a table view of all bankruptcy data from 2009 to 2011\n",
    "\n",
    "pd.read_sql_query('create or replace view bankruptcy_data as select * from combined_data', con = engine)"
   ]
  },
  {
   "cell_type": "markdown",
   "metadata": {},
   "source": [
    "## Query table view"
   ]
  },
  {
   "cell_type": "code",
   "execution_count": null,
   "metadata": {
    "ExecuteTime": {
     "end_time": "2019-09-07T04:49:24.751300Z",
     "start_time": "2019-09-07T04:49:23.782Z"
    }
   },
   "outputs": [],
   "source": [
    "# Confirm data has been added by querying the tables\n",
    "\n",
    "pd.read_sql_query('select * from bankruptcy_data', con=engine).head()"
   ]
  },
  {
   "cell_type": "markdown",
   "metadata": {
    "slideshow": {
     "slide_type": "slide"
    }
   },
   "source": [
    "# Questions ??"
   ]
  },
  {
   "cell_type": "code",
   "execution_count": null,
   "metadata": {
    "ExecuteTime": {
     "end_time": "2019-09-07T04:49:24.752298Z",
     "start_time": "2019-09-07T04:49:23.785Z"
    }
   },
   "outputs": [],
   "source": [
    "# from pymongo import MongoClient\n",
    "# import sys\n",
    "# import json"
   ]
  },
  {
   "cell_type": "code",
   "execution_count": null,
   "metadata": {
    "ExecuteTime": {
     "end_time": "2019-09-07T04:49:24.753295Z",
     "start_time": "2019-09-07T04:49:23.787Z"
    }
   },
   "outputs": [],
   "source": [
    "# # https://realpython.com/introduction-to-mongodb-and-python/\n",
    "# # Establish a connection\n",
    "\n",
    "# client = MongoClient('mongodb://localhost:27017') ## Specify the port number\n",
    "\n",
    "# # Create or access a database. By default if the database is not found, it will created\n",
    "\n",
    "# db = client.bankruptcyDB\n"
   ]
  },
  {
   "cell_type": "code",
   "execution_count": null,
   "metadata": {
    "ExecuteTime": {
     "end_time": "2019-09-07T04:49:24.754293Z",
     "start_time": "2019-09-07T04:49:23.790Z"
    }
   },
   "outputs": [],
   "source": [
    "# # Transform all dataframe to dictionaries\n",
    "\n",
    "# data09_clean_dict = data09_clean.to_dict('series')\n",
    "# data10_clean_dict = data10_clean.to_dict('series')\n",
    "# data11_clean_dict = data11_clean.to_dict('series')\n",
    "\n",
    "\n",
    "# print(data10_clean_dict)\n"
   ]
  },
  {
   "cell_type": "code",
   "execution_count": null,
   "metadata": {
    "ExecuteTime": {
     "end_time": "2019-09-07T04:49:24.755291Z",
     "start_time": "2019-09-07T04:49:23.792Z"
    }
   },
   "outputs": [],
   "source": [
    "# combined_data_dict = combined_data.to_dict('series')"
   ]
  },
  {
   "cell_type": "code",
   "execution_count": null,
   "metadata": {
    "ExecuteTime": {
     "end_time": "2019-09-07T04:49:24.756287Z",
     "start_time": "2019-09-07T04:49:23.794Z"
    }
   },
   "outputs": [],
   "source": [
    "# combined_data_dict"
   ]
  },
  {
   "cell_type": "code",
   "execution_count": null,
   "metadata": {
    "ExecuteTime": {
     "end_time": "2019-09-07T04:49:24.757285Z",
     "start_time": "2019-09-07T04:49:23.796Z"
    }
   },
   "outputs": [],
   "source": [
    "# # Create a collection in db (aka Table)\n",
    "\n",
    "# data09_collection = db.data2009.find()\n",
    "# data10_collection = db.data2010.find()\n",
    "# data11_collection = db.data2011.find()"
   ]
  },
  {
   "cell_type": "code",
   "execution_count": null,
   "metadata": {
    "ExecuteTime": {
     "end_time": "2019-09-07T04:49:24.759279Z",
     "start_time": "2019-09-07T04:49:23.799Z"
    }
   },
   "outputs": [],
   "source": [
    "# result10 = data10_collection.insert_one(data10_clean_dict)\n"
   ]
  },
  {
   "cell_type": "code",
   "execution_count": null,
   "metadata": {
    "ExecuteTime": {
     "end_time": "2019-09-07T04:49:24.761275Z",
     "start_time": "2019-09-07T04:49:23.802Z"
    }
   },
   "outputs": [],
   "source": [
    "# def import_content(bankruptcy_data/combined_data.csv):\n",
    "#     mng_client = pymongo.MongoClient('localhost', 27017)\n",
    "#     mng_db = mng_client['PC_Bankruptcy09_11'] // Replace mongo db name\n",
    "#     collection_name = 'CombinedData' // Replace mongo db collection name\n",
    "#     db_cm = mng_db[CombinedData]\n",
    "#     cdir = os.path.dirname(__file__)\n",
    "#     file_res = os.path.join(cdir, filepath)\n",
    "\n",
    "#     data = pd.read_csv(file_res)\n",
    "#     data_json = json.loads(data.to_json(orient='records'))\n",
    "#     db_cm.remove()\n",
    "#     db_cm.insert(data_json)\n",
    "\n",
    "# if __name__ == \"__main__\":\n",
    "#   filepath = 'bankruptcy_data/combined_data.csv'  // pass csv file path\n",
    "#   import_content(filepath)"
   ]
  }
 ],
 "metadata": {
  "celltoolbar": "Slideshow",
  "kernelspec": {
   "display_name": "Python 3",
   "language": "python",
   "name": "python3"
  },
  "language_info": {
   "codemirror_mode": {
    "name": "ipython",
    "version": 3
   },
   "file_extension": ".py",
   "mimetype": "text/x-python",
   "name": "python",
   "nbconvert_exporter": "python",
   "pygments_lexer": "ipython3",
   "version": "3.6.8"
  },
  "toc": {
   "base_numbering": 1,
   "nav_menu": {},
   "number_sections": true,
   "sideBar": true,
   "skip_h1_title": false,
   "title_cell": "Table of Contents",
   "title_sidebar": "Contents",
   "toc_cell": true,
   "toc_position": {},
   "toc_section_display": true,
   "toc_window_display": true
  }
 },
 "nbformat": 4,
 "nbformat_minor": 2
}
